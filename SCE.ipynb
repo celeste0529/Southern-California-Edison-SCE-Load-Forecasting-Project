{
 "cells": [
  {
   "cell_type": "markdown",
   "metadata": {},
   "source": [
    "# Southern California Edison (SCE) Load Forecasting "
   ]
  },
  {
   "cell_type": "markdown",
   "metadata": {},
   "source": [
    "##  Description:\n",
    "\n",
    "### 1. Performed preliminary analysis of data and created new features by the trend and  seasonality of continuous data.\n",
    "\n",
    "### 2. Forecasted electricity consumption load for future 16 hours using Linear Regression, Lasso Regression and Ridge Regression.\n",
    "\n",
    "### 3. Validated models by K-fold cross validation and performed model evaluation using MAE and MAPE"
   ]
  },
  {
   "cell_type": "code",
   "execution_count": 1,
   "metadata": {},
   "outputs": [],
   "source": [
    "import pandas as pd\n",
    "import numpy as np\n",
    "import matplotlib.pyplot as plt\n",
    "from pandas.tseries.holiday import USFederalHolidayCalendar as calendar\n",
    "from datetime import datetime\n",
    "import statsmodels.api as sm\n",
    "import warnings\n",
    "warnings.filterwarnings('ignore')"
   ]
  },
  {
   "cell_type": "markdown",
   "metadata": {},
   "source": [
    "## Data Preprocessing"
   ]
  },
  {
   "cell_type": "code",
   "execution_count": 2,
   "metadata": {},
   "outputs": [],
   "source": [
    "df = pd.read_excel('forecasting.xlsx', sheet_name = 'Sheet1')"
   ]
  },
  {
   "cell_type": "code",
   "execution_count": 3,
   "metadata": {},
   "outputs": [
    {
     "data": {
      "text/html": [
       "<div>\n",
       "<style scoped>\n",
       "    .dataframe tbody tr th:only-of-type {\n",
       "        vertical-align: middle;\n",
       "    }\n",
       "\n",
       "    .dataframe tbody tr th {\n",
       "        vertical-align: top;\n",
       "    }\n",
       "\n",
       "    .dataframe thead th {\n",
       "        text-align: right;\n",
       "    }\n",
       "</style>\n",
       "<table border=\"1\" class=\"dataframe\">\n",
       "  <thead>\n",
       "    <tr style=\"text-align: right;\">\n",
       "      <th></th>\n",
       "      <th>Date</th>\n",
       "      <th>Load</th>\n",
       "      <th>temp</th>\n",
       "    </tr>\n",
       "  </thead>\n",
       "  <tbody>\n",
       "    <tr>\n",
       "      <th>0</th>\n",
       "      <td>2014-01-01 00:00:00</td>\n",
       "      <td>9891.0</td>\n",
       "      <td>59.4685</td>\n",
       "    </tr>\n",
       "    <tr>\n",
       "      <th>1</th>\n",
       "      <td>2014-01-01 01:00:00</td>\n",
       "      <td>9553.0</td>\n",
       "      <td>61.4030</td>\n",
       "    </tr>\n",
       "    <tr>\n",
       "      <th>2</th>\n",
       "      <td>2014-01-01 02:00:00</td>\n",
       "      <td>9222.0</td>\n",
       "      <td>55.0310</td>\n",
       "    </tr>\n",
       "    <tr>\n",
       "      <th>3</th>\n",
       "      <td>2014-01-01 03:00:00</td>\n",
       "      <td>9024.0</td>\n",
       "      <td>53.1878</td>\n",
       "    </tr>\n",
       "    <tr>\n",
       "      <th>4</th>\n",
       "      <td>2014-01-01 04:00:00</td>\n",
       "      <td>8987.0</td>\n",
       "      <td>51.9944</td>\n",
       "    </tr>\n",
       "  </tbody>\n",
       "</table>\n",
       "</div>"
      ],
      "text/plain": [
       "                 Date    Load     temp\n",
       "0 2014-01-01 00:00:00  9891.0  59.4685\n",
       "1 2014-01-01 01:00:00  9553.0  61.4030\n",
       "2 2014-01-01 02:00:00  9222.0  55.0310\n",
       "3 2014-01-01 03:00:00  9024.0  53.1878\n",
       "4 2014-01-01 04:00:00  8987.0  51.9944"
      ]
     },
     "execution_count": 3,
     "metadata": {},
     "output_type": "execute_result"
    }
   ],
   "source": [
    "df.head()"
   ]
  },
  {
   "cell_type": "code",
   "execution_count": 4,
   "metadata": {},
   "outputs": [],
   "source": [
    "# create features\n",
    "df['year'] = df['Date'].dt.year\n",
    "df['month'] = df['Date'].dt.month\n",
    "df['day'] = df['Date'].dt.day\n",
    "df['datehour'] = df['Date'].dt.hour\n",
    "df['temp2'] = df['temp']**2"
   ]
  },
  {
   "cell_type": "code",
   "execution_count": null,
   "metadata": {},
   "outputs": [],
   "source": []
  },
  {
   "cell_type": "markdown",
   "metadata": {},
   "source": [
    "#### add new feature: split days into weekday and weekend"
   ]
  },
  {
   "cell_type": "code",
   "execution_count": 5,
   "metadata": {},
   "outputs": [],
   "source": [
    "df['day of week'] = df['Date'].dt.dayofweek\n",
    "df['weekday & weekend'] = np.nan\n",
    "df.loc[(df['day of week'] >=0) & (df['day of week'] <= 4),'weekday & weekend'] = '1'  # weekday is 1\n",
    "df.loc[(df['day of week'] >=5) & (df['day of week'] <= 6),'weekday & weekend'] = '2'  # weekend is 2\n"
   ]
  },
  {
   "cell_type": "code",
   "execution_count": 6,
   "metadata": {},
   "outputs": [
    {
     "data": {
      "text/plain": [
       "Text(0, 0.5, 'Monthly Load for weekday and weekend')"
      ]
     },
     "execution_count": 6,
     "metadata": {},
     "output_type": "execute_result"
    },
    {
     "data": {
      "image/png": "[encoded data removed]",
      "text/plain": [
       "<Figure size 864x360 with 1 Axes>"
      ]
     },
     "metadata": {
      "needs_background": "light"
     },
     "output_type": "display_data"
    }
   ],
   "source": [
    "# sample check:\n",
    "year_2014 = df.loc[df['year'] == 2014]\n",
    "dd_2014 = year_2014.groupby(['month','weekday & weekend'])['Load'].sum()\n",
    "dd_2014.plot(kind = 'bar', figsize = (12,5) )\n",
    "plt.ylabel('Monthly Load for weekday and weekend')\n",
    "# weekday is 1, weekend is 2\n",
    "# Loads on weekdays are much larger than weekends"
   ]
  },
  {
   "cell_type": "code",
   "execution_count": 7,
   "metadata": {
    "scrolled": true
   },
   "outputs": [
    {
     "data": {
      "text/html": [
       "<div>\n",
       "<style scoped>\n",
       "    .dataframe tbody tr th:only-of-type {\n",
       "        vertical-align: middle;\n",
       "    }\n",
       "\n",
       "    .dataframe tbody tr th {\n",
       "        vertical-align: top;\n",
       "    }\n",
       "\n",
       "    .dataframe thead th {\n",
       "        text-align: right;\n",
       "    }\n",
       "</style>\n",
       "<table border=\"1\" class=\"dataframe\">\n",
       "  <thead>\n",
       "    <tr style=\"text-align: right;\">\n",
       "      <th></th>\n",
       "      <th>Load</th>\n",
       "      <th>temp</th>\n",
       "      <th>year</th>\n",
       "      <th>month</th>\n",
       "      <th>day</th>\n",
       "      <th>datehour</th>\n",
       "      <th>temp2</th>\n",
       "      <th>day of week</th>\n",
       "      <th>weekday &amp; weekend</th>\n",
       "    </tr>\n",
       "    <tr>\n",
       "      <th>Date</th>\n",
       "      <th></th>\n",
       "      <th></th>\n",
       "      <th></th>\n",
       "      <th></th>\n",
       "      <th></th>\n",
       "      <th></th>\n",
       "      <th></th>\n",
       "      <th></th>\n",
       "      <th></th>\n",
       "    </tr>\n",
       "  </thead>\n",
       "  <tbody>\n",
       "    <tr>\n",
       "      <th>2014-01-01 00:00:00</th>\n",
       "      <td>9891.0</td>\n",
       "      <td>59.4685</td>\n",
       "      <td>2014</td>\n",
       "      <td>1</td>\n",
       "      <td>1</td>\n",
       "      <td>0</td>\n",
       "      <td>3536.502492</td>\n",
       "      <td>2</td>\n",
       "      <td>1</td>\n",
       "    </tr>\n",
       "    <tr>\n",
       "      <th>2014-01-01 01:00:00</th>\n",
       "      <td>9553.0</td>\n",
       "      <td>61.4030</td>\n",
       "      <td>2014</td>\n",
       "      <td>1</td>\n",
       "      <td>1</td>\n",
       "      <td>1</td>\n",
       "      <td>3770.328409</td>\n",
       "      <td>2</td>\n",
       "      <td>1</td>\n",
       "    </tr>\n",
       "    <tr>\n",
       "      <th>2014-01-01 02:00:00</th>\n",
       "      <td>9222.0</td>\n",
       "      <td>55.0310</td>\n",
       "      <td>2014</td>\n",
       "      <td>1</td>\n",
       "      <td>1</td>\n",
       "      <td>2</td>\n",
       "      <td>3028.410961</td>\n",
       "      <td>2</td>\n",
       "      <td>1</td>\n",
       "    </tr>\n",
       "    <tr>\n",
       "      <th>2014-01-01 03:00:00</th>\n",
       "      <td>9024.0</td>\n",
       "      <td>53.1878</td>\n",
       "      <td>2014</td>\n",
       "      <td>1</td>\n",
       "      <td>1</td>\n",
       "      <td>3</td>\n",
       "      <td>2828.942069</td>\n",
       "      <td>2</td>\n",
       "      <td>1</td>\n",
       "    </tr>\n",
       "    <tr>\n",
       "      <th>2014-01-01 04:00:00</th>\n",
       "      <td>8987.0</td>\n",
       "      <td>51.9944</td>\n",
       "      <td>2014</td>\n",
       "      <td>1</td>\n",
       "      <td>1</td>\n",
       "      <td>4</td>\n",
       "      <td>2703.417631</td>\n",
       "      <td>2</td>\n",
       "      <td>1</td>\n",
       "    </tr>\n",
       "  </tbody>\n",
       "</table>\n",
       "</div>"
      ],
      "text/plain": [
       "                       Load     temp  year  month  day  datehour        temp2  \\\n",
       "Date                                                                            \n",
       "2014-01-01 00:00:00  9891.0  59.4685  2014      1    1         0  3536.502492   \n",
       "2014-01-01 01:00:00  9553.0  61.4030  2014      1    1         1  3770.328409   \n",
       "2014-01-01 02:00:00  9222.0  55.0310  2014      1    1         2  3028.410961   \n",
       "2014-01-01 03:00:00  9024.0  53.1878  2014      1    1         3  2828.942069   \n",
       "2014-01-01 04:00:00  8987.0  51.9944  2014      1    1         4  2703.417631   \n",
       "\n",
       "                     day of week weekday & weekend  \n",
       "Date                                                \n",
       "2014-01-01 00:00:00            2                 1  \n",
       "2014-01-01 01:00:00            2                 1  \n",
       "2014-01-01 02:00:00            2                 1  \n",
       "2014-01-01 03:00:00            2                 1  \n",
       "2014-01-01 04:00:00            2                 1  "
      ]
     },
     "execution_count": 7,
     "metadata": {},
     "output_type": "execute_result"
    }
   ],
   "source": [
    "df.set_index('Date',inplace = True)\n",
    "df.head()"
   ]
  },
  {
   "cell_type": "code",
   "execution_count": 8,
   "metadata": {},
   "outputs": [
    {
     "data": {
      "text/plain": [
       "Text(0, 0.5, 'Load')"
      ]
     },
     "execution_count": 8,
     "metadata": {},
     "output_type": "execute_result"
    },
    {
     "data": {
      "image/png": "[encoded data removed]",
      "text/plain": [
       "<Figure size 864x432 with 1 Axes>"
      ]
     },
     "metadata": {
      "needs_background": "light"
     },
     "output_type": "display_data"
    }
   ],
   "source": [
    "# relationship between date and Load\n",
    "df['Load'].plot(figsize = (12,6))      # Load has similar trend by year\n",
    "plt.ylabel('Load')"
   ]
  },
  {
   "cell_type": "code",
   "execution_count": 9,
   "metadata": {},
   "outputs": [
    {
     "data": {
      "image/png": "[encoded data removed]",
      "text/plain": [
       "<Figure size 432x288 with 1 Axes>"
      ]
     },
     "metadata": {
      "needs_background": "light"
     },
     "output_type": "display_data"
    }
   ],
   "source": [
    "mm = df.groupby(['year','month'])['Load'].sum()\n",
    "year = ['2014','2015','2016','2017','2018']\n",
    "for j in year:\n",
    "    mm.loc[int(j),:].plot()\n",
    "plt.legend(year)\n",
    "plt.ylabel('Monthly Load')\n",
    "plt.show()\n",
    "# In each year, Load has seasonarity"
   ]
  },
  {
   "cell_type": "markdown",
   "metadata": {},
   "source": [
    "#### add quarter feature"
   ]
  },
  {
   "cell_type": "code",
   "execution_count": 10,
   "metadata": {
    "scrolled": false
   },
   "outputs": [],
   "source": [
    "df['quarter'] = np.nan\n",
    "df.loc[(df['month'] >=1) & (df['month'] <= 3),'quarter'] = '1'     # first quarter is 1\n",
    "df.loc[(df['month'] >=4) & (df['month'] <= 6),'quarter'] = '2'     # second quarter is 2\n",
    "df.loc[(df['month'] >=7) & (df['month'] <= 9),'quarter'] = '3'     # third quarter is 3\n",
    "df.loc[(df['month'] >=10) & (df['month'] <= 12),'quarter'] = '4'   # fourth quarter is 4"
   ]
  },
  {
   "cell_type": "code",
   "execution_count": null,
   "metadata": {},
   "outputs": [],
   "source": []
  },
  {
   "cell_type": "markdown",
   "metadata": {},
   "source": [
    "#### new feature: split hour into several period by weekday & weekend"
   ]
  },
  {
   "cell_type": "code",
   "execution_count": 11,
   "metadata": {
    "scrolled": false
   },
   "outputs": [
    {
     "data": {
      "image/png": "[encoded data removed]",
      "text/plain": [
       "<Figure size 864x432 with 1 Axes>"
      ]
     },
     "metadata": {
      "needs_background": "light"
     },
     "output_type": "display_data"
    }
   ],
   "source": [
    "# plot relationship between Load and weekday&weekend\n",
    "t1 = df.loc[df['weekday & weekend'] == '1']\n",
    "xx = t1['datehour']\n",
    "yy = t1['Load']\n",
    "t2 = df.loc[df['weekday & weekend'] == '2']\n",
    "xx1 = t2['datehour']\n",
    "yy1 = t2['Load']\n",
    "\n",
    "plt.figure(figsize = (12,6))\n",
    "plt.scatter(xx,yy)\n",
    "plt.scatter(xx1,yy1)\n",
    "plt.legend(['weekday','weekend'])\n",
    "plt.ylabel('Load')\n",
    "plt.xlabel('Hour')\n",
    "plt.show()\n"
   ]
  },
  {
   "cell_type": "code",
   "execution_count": 12,
   "metadata": {
    "scrolled": true
   },
   "outputs": [
    {
     "data": {
      "text/html": [
       "<div>\n",
       "<style scoped>\n",
       "    .dataframe tbody tr th:only-of-type {\n",
       "        vertical-align: middle;\n",
       "    }\n",
       "\n",
       "    .dataframe tbody tr th {\n",
       "        vertical-align: top;\n",
       "    }\n",
       "\n",
       "    .dataframe thead th {\n",
       "        text-align: right;\n",
       "    }\n",
       "</style>\n",
       "<table border=\"1\" class=\"dataframe\">\n",
       "  <thead>\n",
       "    <tr style=\"text-align: right;\">\n",
       "      <th></th>\n",
       "      <th>Load</th>\n",
       "      <th>temp</th>\n",
       "      <th>year</th>\n",
       "      <th>month</th>\n",
       "      <th>day</th>\n",
       "      <th>datehour</th>\n",
       "      <th>temp2</th>\n",
       "      <th>day of week</th>\n",
       "      <th>weekday &amp; weekend</th>\n",
       "      <th>quarter</th>\n",
       "      <th>week &amp; period</th>\n",
       "    </tr>\n",
       "    <tr>\n",
       "      <th>Date</th>\n",
       "      <th></th>\n",
       "      <th></th>\n",
       "      <th></th>\n",
       "      <th></th>\n",
       "      <th></th>\n",
       "      <th></th>\n",
       "      <th></th>\n",
       "      <th></th>\n",
       "      <th></th>\n",
       "      <th></th>\n",
       "      <th></th>\n",
       "    </tr>\n",
       "  </thead>\n",
       "  <tbody>\n",
       "    <tr>\n",
       "      <th>2014-01-01 00:00:00</th>\n",
       "      <td>9891.0</td>\n",
       "      <td>59.4685</td>\n",
       "      <td>2014</td>\n",
       "      <td>1</td>\n",
       "      <td>1</td>\n",
       "      <td>0</td>\n",
       "      <td>3536.502492</td>\n",
       "      <td>2</td>\n",
       "      <td>1</td>\n",
       "      <td>1</td>\n",
       "      <td>weekday late night</td>\n",
       "    </tr>\n",
       "    <tr>\n",
       "      <th>2014-01-01 01:00:00</th>\n",
       "      <td>9553.0</td>\n",
       "      <td>61.4030</td>\n",
       "      <td>2014</td>\n",
       "      <td>1</td>\n",
       "      <td>1</td>\n",
       "      <td>1</td>\n",
       "      <td>3770.328409</td>\n",
       "      <td>2</td>\n",
       "      <td>1</td>\n",
       "      <td>1</td>\n",
       "      <td>weekday late night</td>\n",
       "    </tr>\n",
       "    <tr>\n",
       "      <th>2014-01-01 02:00:00</th>\n",
       "      <td>9222.0</td>\n",
       "      <td>55.0310</td>\n",
       "      <td>2014</td>\n",
       "      <td>1</td>\n",
       "      <td>1</td>\n",
       "      <td>2</td>\n",
       "      <td>3028.410961</td>\n",
       "      <td>2</td>\n",
       "      <td>1</td>\n",
       "      <td>1</td>\n",
       "      <td>weekday midnight</td>\n",
       "    </tr>\n",
       "    <tr>\n",
       "      <th>2014-01-01 03:00:00</th>\n",
       "      <td>9024.0</td>\n",
       "      <td>53.1878</td>\n",
       "      <td>2014</td>\n",
       "      <td>1</td>\n",
       "      <td>1</td>\n",
       "      <td>3</td>\n",
       "      <td>2828.942069</td>\n",
       "      <td>2</td>\n",
       "      <td>1</td>\n",
       "      <td>1</td>\n",
       "      <td>weekday midnight</td>\n",
       "    </tr>\n",
       "    <tr>\n",
       "      <th>2014-01-01 04:00:00</th>\n",
       "      <td>8987.0</td>\n",
       "      <td>51.9944</td>\n",
       "      <td>2014</td>\n",
       "      <td>1</td>\n",
       "      <td>1</td>\n",
       "      <td>4</td>\n",
       "      <td>2703.417631</td>\n",
       "      <td>2</td>\n",
       "      <td>1</td>\n",
       "      <td>1</td>\n",
       "      <td>weekday midnight</td>\n",
       "    </tr>\n",
       "  </tbody>\n",
       "</table>\n",
       "</div>"
      ],
      "text/plain": [
       "                       Load     temp  year  month  day  datehour        temp2  \\\n",
       "Date                                                                            \n",
       "2014-01-01 00:00:00  9891.0  59.4685  2014      1    1         0  3536.502492   \n",
       "2014-01-01 01:00:00  9553.0  61.4030  2014      1    1         1  3770.328409   \n",
       "2014-01-01 02:00:00  9222.0  55.0310  2014      1    1         2  3028.410961   \n",
       "2014-01-01 03:00:00  9024.0  53.1878  2014      1    1         3  2828.942069   \n",
       "2014-01-01 04:00:00  8987.0  51.9944  2014      1    1         4  2703.417631   \n",
       "\n",
       "                     day of week weekday & weekend quarter       week & period  \n",
       "Date                                                                            \n",
       "2014-01-01 00:00:00            2                 1       1  weekday late night  \n",
       "2014-01-01 01:00:00            2                 1       1  weekday late night  \n",
       "2014-01-01 02:00:00            2                 1       1    weekday midnight  \n",
       "2014-01-01 03:00:00            2                 1       1    weekday midnight  \n",
       "2014-01-01 04:00:00            2                 1       1    weekday midnight  "
      ]
     },
     "execution_count": 12,
     "metadata": {},
     "output_type": "execute_result"
    }
   ],
   "source": [
    "df['week & period'] = np.nan\n",
    "df.loc[(df['datehour'] >= 0) & (df['datehour'] <= 1) & (df['weekday & weekend'] == '1'),'week & period'] = 'weekday late night' \n",
    "df.loc[(df['datehour'] > 21) & (df['datehour'] <= 23) & (df['weekday & weekend'] == '1'),'week & period'] = 'weekday late night' \n",
    "df.loc[(df['datehour'] > 1) & (df['datehour'] <= 6) & (df['weekday & weekend'] == '1'),'week & period'] = ' weekday midnight'     \n",
    "df.loc[(df['datehour'] > 6) & (df['datehour'] <= 9) & (df['weekday & weekend'] == '1'),'week & period'] = 'weekday early morning' \n",
    "df.loc[(df['datehour'] > 9) & (df['datehour'] <= 11) & (df['weekday & weekend'] == '1'),'week & period'] = 'weekday morning' \n",
    "df.loc[(df['datehour'] > 11) & (df['datehour'] <= 17) & (df['weekday & weekend'] == '1'),'week & period'] = 'weekday noon & afternoon' \n",
    "df.loc[(df['datehour'] > 17) & (df['datehour'] <= 21) & (df['weekday & weekend'] == '1'),'week & period'] = 'weekday night' \n",
    "\n",
    "df.loc[(df['datehour'] >= 0) & (df['datehour'] <= 1) & (df['weekday & weekend'] == '2'),'week & period'] = 'weekend late night' \n",
    "df.loc[(df['datehour'] > 21) & (df['datehour'] <= 23) & (df['weekday & weekend'] == '2'),'week & period'] = 'weekend late night' \n",
    "df.loc[(df['datehour'] > 1) & (df['datehour'] <= 6) & (df['weekday & weekend'] == '2'),'week & period'] = ' weekend midnight'     \n",
    "df.loc[(df['datehour'] > 6) & (df['datehour'] <= 9) & (df['weekday & weekend'] == '2'),'week & period'] = 'weekend early morning' \n",
    "df.loc[(df['datehour'] > 9) & (df['datehour'] <= 11) & (df['weekday & weekend'] == '2'),'week & period'] = 'weekend morning' \n",
    "df.loc[(df['datehour'] > 11) & (df['datehour'] <= 17) & (df['weekday & weekend'] == '2'),'week & period'] = 'weekend noon & afternoon' \n",
    "df.loc[(df['datehour'] > 17) & (df['datehour'] <= 21) & (df['weekday & weekend'] == '2'),'week & period'] = 'weekend night' \n",
    "df.head()"
   ]
  },
  {
   "cell_type": "markdown",
   "metadata": {},
   "source": [
    "#### view peak time load"
   ]
  },
  {
   "cell_type": "code",
   "execution_count": 13,
   "metadata": {},
   "outputs": [],
   "source": [
    "mh_mean = df.groupby(['month','datehour']).mean() \n",
    "mh = mh_mean['Load']\n",
    "mh_list = []\n",
    "for i in range(1,13):\n",
    "    for j in range(0,24):\n",
    "        x = mh[i][j]\n",
    "        mh_list.append(x)\n",
    "number = np.array(mh_list).reshape(-1,1)\n",
    "month_list = []\n",
    "hour_list = np.asarray(list(range(0,24))*12).reshape(-1,1)\n",
    "for i in range(1,13):\n",
    "        it = [i]*24\n",
    "        month_list.append(it)\n",
    "month_list =  np.asarray(month_list).reshape(-1,1)\n",
    "month_hour = pd.DataFrame(number, columns = ['Load'])\n",
    "month_hour['M'] = month_list\n",
    "month_hour['H'] = hour_list\n",
    "month_hour = month_hour.sort_values(by = 'Load')"
   ]
  },
  {
   "cell_type": "code",
   "execution_count": 14,
   "metadata": {},
   "outputs": [
    {
     "data": {
      "image/png": "[encoded data removed]",
      "text/plain": [
       "<Figure size 432x288 with 1 Axes>"
      ]
     },
     "metadata": {
      "needs_background": "light"
     },
     "output_type": "display_data"
    }
   ],
   "source": [
    "q1 = np.quantile(month_hour['Load'], .25)\n",
    "q2 = np.quantile(month_hour['Load'], .50)\n",
    "q3 = np.quantile(month_hour['Load'], .75)\n",
    "plt.bar(list(range(1,289)),month_hour['Load'], color = (0.5,0.1,0.5,0.6))\n",
    "plt.title('Average engergy consumption')\n",
    "plt.ylabel('Load')\n",
    "plt.ylim(8000,20000)\n",
    "plt.hlines(month_hour.mean(),xmin = 1, xmax = 288)\n",
    "plt.hlines(q1,xmin = 1, xmax = 288)\n",
    "plt.hlines(q3,xmin = 1, xmax = 288)\n",
    "plt.show()"
   ]
  },
  {
   "cell_type": "code",
   "execution_count": null,
   "metadata": {},
   "outputs": [],
   "source": []
  },
  {
   "cell_type": "markdown",
   "metadata": {},
   "source": [
    "### how temperature effect the energy consumption?  "
   ]
  },
  {
   "cell_type": "code",
   "execution_count": 15,
   "metadata": {},
   "outputs": [
    {
     "data": {
      "image/png": "[encoded data removed]",
      "text/plain": [
       "<Figure size 432x288 with 1 Axes>"
      ]
     },
     "metadata": {
      "needs_background": "light"
     },
     "output_type": "display_data"
    }
   ],
   "source": [
    "from sklearn.linear_model import LinearRegression\n",
    "from sklearn.preprocessing import PolynomialFeatures\n",
    "poly = df['temp'].values.reshape(-1,1)\n",
    "poly_model = PolynomialFeatures(degree=4)\n",
    "poly2 = poly_model.fit_transform(poly)\n",
    "model = LinearRegression().fit(poly2,df['Load'])\n",
    "yhat   = model.predict(poly2)\n",
    "plt.scatter(df['temp'],df['Load'],c='b',s=10)\n",
    "plt.plot(df['temp'],yhat,c='r',lw=0.5)\n",
    "plt.xlabel('Temp')\n",
    "plt.ylabel('Load')\n",
    "plt.grid()"
   ]
  },
  {
   "cell_type": "markdown",
   "metadata": {},
   "source": [
    "### temp and hour\n",
    "#### 1. create two new features: multiply temp by hour, multiply square of temp by hour "
   ]
  },
  {
   "cell_type": "code",
   "execution_count": 16,
   "metadata": {},
   "outputs": [],
   "source": [
    "df['temp & hour'] = df['temp']* df['datehour']\n",
    "df['temp2 & hour'] = df['temp2']* df['datehour']"
   ]
  },
  {
   "cell_type": "code",
   "execution_count": 17,
   "metadata": {},
   "outputs": [
    {
     "data": {
      "text/plain": [
       "Text(0.5, 0, 'Hour')"
      ]
     },
     "execution_count": 17,
     "metadata": {},
     "output_type": "execute_result"
    },
    {
     "data": {
      "image/png": "[encoded data removed]",
      "text/plain": [
       "<Figure size 864x432 with 1 Axes>"
      ]
     },
     "metadata": {
      "needs_background": "light"
     },
     "output_type": "display_data"
    }
   ],
   "source": [
    "# sample check: In January, relationship between temp and hour\n",
    "t3 = df.loc[df['month'] == 1]\n",
    "xxx = t3['datehour']\n",
    "yyy = t3['temp']\n",
    "plt.figure(figsize = (12,6))\n",
    "plt.scatter(xxx,yyy)\n",
    "plt.ylabel('Temperature')\n",
    "plt.xlabel('Hour')\n"
   ]
  },
  {
   "cell_type": "code",
   "execution_count": null,
   "metadata": {},
   "outputs": [],
   "source": []
  },
  {
   "cell_type": "markdown",
   "metadata": {},
   "source": [
    "#### 2. split hour into period by temperature"
   ]
  },
  {
   "cell_type": "code",
   "execution_count": 18,
   "metadata": {
    "scrolled": true
   },
   "outputs": [
    {
     "data": {
      "text/html": [
       "<div>\n",
       "<style scoped>\n",
       "    .dataframe tbody tr th:only-of-type {\n",
       "        vertical-align: middle;\n",
       "    }\n",
       "\n",
       "    .dataframe tbody tr th {\n",
       "        vertical-align: top;\n",
       "    }\n",
       "\n",
       "    .dataframe thead th {\n",
       "        text-align: right;\n",
       "    }\n",
       "</style>\n",
       "<table border=\"1\" class=\"dataframe\">\n",
       "  <thead>\n",
       "    <tr style=\"text-align: right;\">\n",
       "      <th></th>\n",
       "      <th>Load</th>\n",
       "      <th>temp</th>\n",
       "      <th>year</th>\n",
       "      <th>month</th>\n",
       "      <th>day</th>\n",
       "      <th>datehour</th>\n",
       "      <th>temp2</th>\n",
       "      <th>day of week</th>\n",
       "      <th>weekday &amp; weekend</th>\n",
       "      <th>quarter</th>\n",
       "      <th>week &amp; period</th>\n",
       "      <th>temp &amp; hour</th>\n",
       "      <th>temp2 &amp; hour</th>\n",
       "      <th>temp_h</th>\n",
       "    </tr>\n",
       "    <tr>\n",
       "      <th>Date</th>\n",
       "      <th></th>\n",
       "      <th></th>\n",
       "      <th></th>\n",
       "      <th></th>\n",
       "      <th></th>\n",
       "      <th></th>\n",
       "      <th></th>\n",
       "      <th></th>\n",
       "      <th></th>\n",
       "      <th></th>\n",
       "      <th></th>\n",
       "      <th></th>\n",
       "      <th></th>\n",
       "      <th></th>\n",
       "    </tr>\n",
       "  </thead>\n",
       "  <tbody>\n",
       "    <tr>\n",
       "      <th>2014-01-01 00:00:00</th>\n",
       "      <td>9891.0</td>\n",
       "      <td>59.4685</td>\n",
       "      <td>2014</td>\n",
       "      <td>1</td>\n",
       "      <td>1</td>\n",
       "      <td>0</td>\n",
       "      <td>3536.502492</td>\n",
       "      <td>2</td>\n",
       "      <td>1</td>\n",
       "      <td>1</td>\n",
       "      <td>weekday late night</td>\n",
       "      <td>0.0000</td>\n",
       "      <td>0.000000</td>\n",
       "      <td>temp3</td>\n",
       "    </tr>\n",
       "    <tr>\n",
       "      <th>2014-01-01 01:00:00</th>\n",
       "      <td>9553.0</td>\n",
       "      <td>61.4030</td>\n",
       "      <td>2014</td>\n",
       "      <td>1</td>\n",
       "      <td>1</td>\n",
       "      <td>1</td>\n",
       "      <td>3770.328409</td>\n",
       "      <td>2</td>\n",
       "      <td>1</td>\n",
       "      <td>1</td>\n",
       "      <td>weekday late night</td>\n",
       "      <td>61.4030</td>\n",
       "      <td>3770.328409</td>\n",
       "      <td>temp3</td>\n",
       "    </tr>\n",
       "    <tr>\n",
       "      <th>2014-01-01 02:00:00</th>\n",
       "      <td>9222.0</td>\n",
       "      <td>55.0310</td>\n",
       "      <td>2014</td>\n",
       "      <td>1</td>\n",
       "      <td>1</td>\n",
       "      <td>2</td>\n",
       "      <td>3028.410961</td>\n",
       "      <td>2</td>\n",
       "      <td>1</td>\n",
       "      <td>1</td>\n",
       "      <td>weekday midnight</td>\n",
       "      <td>110.0620</td>\n",
       "      <td>6056.821922</td>\n",
       "      <td>temp3</td>\n",
       "    </tr>\n",
       "    <tr>\n",
       "      <th>2014-01-01 03:00:00</th>\n",
       "      <td>9024.0</td>\n",
       "      <td>53.1878</td>\n",
       "      <td>2014</td>\n",
       "      <td>1</td>\n",
       "      <td>1</td>\n",
       "      <td>3</td>\n",
       "      <td>2828.942069</td>\n",
       "      <td>2</td>\n",
       "      <td>1</td>\n",
       "      <td>1</td>\n",
       "      <td>weekday midnight</td>\n",
       "      <td>159.5634</td>\n",
       "      <td>8486.826207</td>\n",
       "      <td>temp3</td>\n",
       "    </tr>\n",
       "    <tr>\n",
       "      <th>2014-01-01 04:00:00</th>\n",
       "      <td>8987.0</td>\n",
       "      <td>51.9944</td>\n",
       "      <td>2014</td>\n",
       "      <td>1</td>\n",
       "      <td>1</td>\n",
       "      <td>4</td>\n",
       "      <td>2703.417631</td>\n",
       "      <td>2</td>\n",
       "      <td>1</td>\n",
       "      <td>1</td>\n",
       "      <td>weekday midnight</td>\n",
       "      <td>207.9776</td>\n",
       "      <td>10813.670525</td>\n",
       "      <td>temp1</td>\n",
       "    </tr>\n",
       "  </tbody>\n",
       "</table>\n",
       "</div>"
      ],
      "text/plain": [
       "                       Load     temp  year  month  day  datehour        temp2  \\\n",
       "Date                                                                            \n",
       "2014-01-01 00:00:00  9891.0  59.4685  2014      1    1         0  3536.502492   \n",
       "2014-01-01 01:00:00  9553.0  61.4030  2014      1    1         1  3770.328409   \n",
       "2014-01-01 02:00:00  9222.0  55.0310  2014      1    1         2  3028.410961   \n",
       "2014-01-01 03:00:00  9024.0  53.1878  2014      1    1         3  2828.942069   \n",
       "2014-01-01 04:00:00  8987.0  51.9944  2014      1    1         4  2703.417631   \n",
       "\n",
       "                     day of week weekday & weekend quarter  \\\n",
       "Date                                                         \n",
       "2014-01-01 00:00:00            2                 1       1   \n",
       "2014-01-01 01:00:00            2                 1       1   \n",
       "2014-01-01 02:00:00            2                 1       1   \n",
       "2014-01-01 03:00:00            2                 1       1   \n",
       "2014-01-01 04:00:00            2                 1       1   \n",
       "\n",
       "                          week & period  temp & hour  temp2 & hour temp_h  \n",
       "Date                                                                       \n",
       "2014-01-01 00:00:00  weekday late night       0.0000      0.000000  temp3  \n",
       "2014-01-01 01:00:00  weekday late night      61.4030   3770.328409  temp3  \n",
       "2014-01-01 02:00:00    weekday midnight     110.0620   6056.821922  temp3  \n",
       "2014-01-01 03:00:00    weekday midnight     159.5634   8486.826207  temp3  \n",
       "2014-01-01 04:00:00    weekday midnight     207.9776  10813.670525  temp1  "
      ]
     },
     "execution_count": 18,
     "metadata": {},
     "output_type": "execute_result"
    }
   ],
   "source": [
    "df['temp_h'] = np.nan \n",
    "df.loc[(df['datehour'] >3) & (df['datehour'] <= 9),'temp_h'] = 'temp1'     \n",
    "df.loc[(df['datehour'] >9) & (df['datehour'] <= 17),'temp_h'] = 'temp2'     \n",
    "df.loc[(df['datehour'] >17) & (df['datehour'] <= 23),'temp_h'] = 'temp3'\n",
    "df.loc[(df['datehour'] >=0) & (df['datehour'] <= 3),'temp_h'] = 'temp3'\n",
    "df.head()"
   ]
  },
  {
   "cell_type": "code",
   "execution_count": 19,
   "metadata": {},
   "outputs": [],
   "source": [
    "# temp_mean = []\n",
    "# for i in range(1,13):\n",
    "#     avg = df.loc[df['month'] == i]['temp'].mean()\n",
    "#     temp_mean.append(df.loc[df['month'] == i]['temp'].mean())\n",
    "# temp_mean"
   ]
  },
  {
   "cell_type": "code",
   "execution_count": null,
   "metadata": {},
   "outputs": [],
   "source": []
  },
  {
   "cell_type": "markdown",
   "metadata": {},
   "source": [
    "### temp and month\n",
    "#### 1. add new feature: multiply temp by month; multiply square of temp by month"
   ]
  },
  {
   "cell_type": "code",
   "execution_count": 20,
   "metadata": {},
   "outputs": [],
   "source": [
    "df['temp & month'] = df['temp'] * df['month']\n",
    "df['temp2 & month'] = df['temp2'] * df['month']"
   ]
  },
  {
   "cell_type": "code",
   "execution_count": 21,
   "metadata": {},
   "outputs": [
    {
     "data": {
      "text/plain": [
       "Text(0.5, 1.0, 'April')"
      ]
     },
     "execution_count": 21,
     "metadata": {},
     "output_type": "execute_result"
    },
    {
     "data": {
      "image/png": "[encoded data removed]",
      "text/plain": [
       "<Figure size 360x360 with 4 Axes>"
      ]
     },
     "metadata": {
      "needs_background": "light"
     },
     "output_type": "display_data"
    }
   ],
   "source": [
    "# distribution of temp & month \n",
    "plt.subplot(221)\n",
    "df.loc[df['month'] == 1]['temp & month'].hist(figsize = (5,5))\n",
    "plt.title('Jan')\n",
    "plt.subplot(222)\n",
    "df.loc[df['month'] == 2]['temp & month'].hist(figsize = (5,5))\n",
    "plt.title('Feb')\n",
    "plt.subplot(223)\n",
    "df.loc[df['month'] == 3]['temp & month'].hist(figsize = (5,5))\n",
    "plt.title('March')\n",
    "plt.subplot(224)\n",
    "df.loc[df['month'] == 4]['temp & month'].hist(figsize = (5,5))\n",
    "plt.title('April')"
   ]
  },
  {
   "cell_type": "code",
   "execution_count": 22,
   "metadata": {},
   "outputs": [
    {
     "data": {
      "text/plain": [
       "Text(0.5, 1.0, 'Aug')"
      ]
     },
     "execution_count": 22,
     "metadata": {},
     "output_type": "execute_result"
    },
    {
     "data": {
      "image/png": "[encoded data removed]",
      "text/plain": [
       "<Figure size 360x360 with 4 Axes>"
      ]
     },
     "metadata": {
      "needs_background": "light"
     },
     "output_type": "display_data"
    }
   ],
   "source": [
    "plt.subplot(221)\n",
    "df.loc[df['month'] == 5]['temp & month'].hist(figsize = (5,5))\n",
    "plt.title('May')\n",
    "plt.subplot(222)\n",
    "df.loc[df['month'] == 6]['temp & month'].hist(figsize = (5,5))\n",
    "plt.title('June')\n",
    "plt.subplot(223)\n",
    "df.loc[df['month'] == 7]['temp & month'].hist(figsize = (5,5))\n",
    "plt.title('July')\n",
    "plt.subplot(224)\n",
    "df.loc[df['month'] == 8]['temp & month'].hist(figsize = (5,5))\n",
    "plt.title('Aug')"
   ]
  },
  {
   "cell_type": "code",
   "execution_count": 23,
   "metadata": {
    "scrolled": false
   },
   "outputs": [
    {
     "data": {
      "text/plain": [
       "Text(0.5, 1.0, 'Dec')"
      ]
     },
     "execution_count": 23,
     "metadata": {},
     "output_type": "execute_result"
    },
    {
     "data": {
      "image/png": "[encoded data removed]",
      "text/plain": [
       "<Figure size 360x360 with 4 Axes>"
      ]
     },
     "metadata": {
      "needs_background": "light"
     },
     "output_type": "display_data"
    }
   ],
   "source": [
    "plt.subplot(221)\n",
    "df.loc[df['month'] == 9]['temp & month'].hist(figsize = (5,5))\n",
    "plt.title('Sep')\n",
    "plt.subplot(222)\n",
    "df.loc[df['month'] == 10]['temp & month'].hist(figsize = (5,5))\n",
    "plt.title('Oct')\n",
    "plt.subplot(223)\n",
    "df.loc[df['month'] == 11]['temp & month'].hist(figsize = (5,5))\n",
    "plt.title('Nov')\n",
    "plt.subplot(224)\n",
    "df.loc[df['month'] == 12]['temp & month'].hist(figsize = (5,5))\n",
    "plt.title('Dec')"
   ]
  },
  {
   "cell_type": "code",
   "execution_count": null,
   "metadata": {},
   "outputs": [],
   "source": []
  },
  {
   "cell_type": "markdown",
   "metadata": {},
   "source": [
    "#### 2. new feature: split temp&month into several range based on above hist graph"
   ]
  },
  {
   "cell_type": "code",
   "execution_count": 24,
   "metadata": {},
   "outputs": [
    {
     "data": {
      "text/html": [
       "<div>\n",
       "<style scoped>\n",
       "    .dataframe tbody tr th:only-of-type {\n",
       "        vertical-align: middle;\n",
       "    }\n",
       "\n",
       "    .dataframe tbody tr th {\n",
       "        vertical-align: top;\n",
       "    }\n",
       "\n",
       "    .dataframe thead th {\n",
       "        text-align: right;\n",
       "    }\n",
       "</style>\n",
       "<table border=\"1\" class=\"dataframe\">\n",
       "  <thead>\n",
       "    <tr style=\"text-align: right;\">\n",
       "      <th></th>\n",
       "      <th>Load</th>\n",
       "      <th>temp</th>\n",
       "      <th>year</th>\n",
       "      <th>month</th>\n",
       "      <th>day</th>\n",
       "      <th>datehour</th>\n",
       "      <th>temp2</th>\n",
       "      <th>day of week</th>\n",
       "      <th>weekday &amp; weekend</th>\n",
       "      <th>quarter</th>\n",
       "      <th>week &amp; period</th>\n",
       "      <th>temp &amp; hour</th>\n",
       "      <th>temp2 &amp; hour</th>\n",
       "      <th>temp_h</th>\n",
       "      <th>temp &amp; month</th>\n",
       "      <th>temp2 &amp; month</th>\n",
       "      <th>temp_m</th>\n",
       "    </tr>\n",
       "    <tr>\n",
       "      <th>Date</th>\n",
       "      <th></th>\n",
       "      <th></th>\n",
       "      <th></th>\n",
       "      <th></th>\n",
       "      <th></th>\n",
       "      <th></th>\n",
       "      <th></th>\n",
       "      <th></th>\n",
       "      <th></th>\n",
       "      <th></th>\n",
       "      <th></th>\n",
       "      <th></th>\n",
       "      <th></th>\n",
       "      <th></th>\n",
       "      <th></th>\n",
       "      <th></th>\n",
       "      <th></th>\n",
       "    </tr>\n",
       "  </thead>\n",
       "  <tbody>\n",
       "    <tr>\n",
       "      <th>2014-01-01 00:00:00</th>\n",
       "      <td>9891.0</td>\n",
       "      <td>59.4685</td>\n",
       "      <td>2014</td>\n",
       "      <td>1</td>\n",
       "      <td>1</td>\n",
       "      <td>0</td>\n",
       "      <td>3536.502492</td>\n",
       "      <td>2</td>\n",
       "      <td>1</td>\n",
       "      <td>1</td>\n",
       "      <td>weekday late night</td>\n",
       "      <td>0.0000</td>\n",
       "      <td>0.000000</td>\n",
       "      <td>temp3</td>\n",
       "      <td>59.4685</td>\n",
       "      <td>3536.502492</td>\n",
       "      <td>1</td>\n",
       "    </tr>\n",
       "    <tr>\n",
       "      <th>2014-01-01 01:00:00</th>\n",
       "      <td>9553.0</td>\n",
       "      <td>61.4030</td>\n",
       "      <td>2014</td>\n",
       "      <td>1</td>\n",
       "      <td>1</td>\n",
       "      <td>1</td>\n",
       "      <td>3770.328409</td>\n",
       "      <td>2</td>\n",
       "      <td>1</td>\n",
       "      <td>1</td>\n",
       "      <td>weekday late night</td>\n",
       "      <td>61.4030</td>\n",
       "      <td>3770.328409</td>\n",
       "      <td>temp3</td>\n",
       "      <td>61.4030</td>\n",
       "      <td>3770.328409</td>\n",
       "      <td>1</td>\n",
       "    </tr>\n",
       "    <tr>\n",
       "      <th>2014-01-01 02:00:00</th>\n",
       "      <td>9222.0</td>\n",
       "      <td>55.0310</td>\n",
       "      <td>2014</td>\n",
       "      <td>1</td>\n",
       "      <td>1</td>\n",
       "      <td>2</td>\n",
       "      <td>3028.410961</td>\n",
       "      <td>2</td>\n",
       "      <td>1</td>\n",
       "      <td>1</td>\n",
       "      <td>weekday midnight</td>\n",
       "      <td>110.0620</td>\n",
       "      <td>6056.821922</td>\n",
       "      <td>temp3</td>\n",
       "      <td>55.0310</td>\n",
       "      <td>3028.410961</td>\n",
       "      <td>1</td>\n",
       "    </tr>\n",
       "    <tr>\n",
       "      <th>2014-01-01 03:00:00</th>\n",
       "      <td>9024.0</td>\n",
       "      <td>53.1878</td>\n",
       "      <td>2014</td>\n",
       "      <td>1</td>\n",
       "      <td>1</td>\n",
       "      <td>3</td>\n",
       "      <td>2828.942069</td>\n",
       "      <td>2</td>\n",
       "      <td>1</td>\n",
       "      <td>1</td>\n",
       "      <td>weekday midnight</td>\n",
       "      <td>159.5634</td>\n",
       "      <td>8486.826207</td>\n",
       "      <td>temp3</td>\n",
       "      <td>53.1878</td>\n",
       "      <td>2828.942069</td>\n",
       "      <td>1</td>\n",
       "    </tr>\n",
       "    <tr>\n",
       "      <th>2014-01-01 04:00:00</th>\n",
       "      <td>8987.0</td>\n",
       "      <td>51.9944</td>\n",
       "      <td>2014</td>\n",
       "      <td>1</td>\n",
       "      <td>1</td>\n",
       "      <td>4</td>\n",
       "      <td>2703.417631</td>\n",
       "      <td>2</td>\n",
       "      <td>1</td>\n",
       "      <td>1</td>\n",
       "      <td>weekday midnight</td>\n",
       "      <td>207.9776</td>\n",
       "      <td>10813.670525</td>\n",
       "      <td>temp1</td>\n",
       "      <td>51.9944</td>\n",
       "      <td>2703.417631</td>\n",
       "      <td>1</td>\n",
       "    </tr>\n",
       "  </tbody>\n",
       "</table>\n",
       "</div>"
      ],
      "text/plain": [
       "                       Load     temp  year  month  day  datehour        temp2  \\\n",
       "Date                                                                            \n",
       "2014-01-01 00:00:00  9891.0  59.4685  2014      1    1         0  3536.502492   \n",
       "2014-01-01 01:00:00  9553.0  61.4030  2014      1    1         1  3770.328409   \n",
       "2014-01-01 02:00:00  9222.0  55.0310  2014      1    1         2  3028.410961   \n",
       "2014-01-01 03:00:00  9024.0  53.1878  2014      1    1         3  2828.942069   \n",
       "2014-01-01 04:00:00  8987.0  51.9944  2014      1    1         4  2703.417631   \n",
       "\n",
       "                     day of week weekday & weekend quarter  \\\n",
       "Date                                                         \n",
       "2014-01-01 00:00:00            2                 1       1   \n",
       "2014-01-01 01:00:00            2                 1       1   \n",
       "2014-01-01 02:00:00            2                 1       1   \n",
       "2014-01-01 03:00:00            2                 1       1   \n",
       "2014-01-01 04:00:00            2                 1       1   \n",
       "\n",
       "                          week & period  temp & hour  temp2 & hour temp_h  \\\n",
       "Date                                                                        \n",
       "2014-01-01 00:00:00  weekday late night       0.0000      0.000000  temp3   \n",
       "2014-01-01 01:00:00  weekday late night      61.4030   3770.328409  temp3   \n",
       "2014-01-01 02:00:00    weekday midnight     110.0620   6056.821922  temp3   \n",
       "2014-01-01 03:00:00    weekday midnight     159.5634   8486.826207  temp3   \n",
       "2014-01-01 04:00:00    weekday midnight     207.9776  10813.670525  temp1   \n",
       "\n",
       "                     temp & month  temp2 & month temp_m  \n",
       "Date                                                     \n",
       "2014-01-01 00:00:00       59.4685    3536.502492      1  \n",
       "2014-01-01 01:00:00       61.4030    3770.328409      1  \n",
       "2014-01-01 02:00:00       55.0310    3028.410961      1  \n",
       "2014-01-01 03:00:00       53.1878    2828.942069      1  \n",
       "2014-01-01 04:00:00       51.9944    2703.417631      1  "
      ]
     },
     "execution_count": 24,
     "metadata": {},
     "output_type": "execute_result"
    }
   ],
   "source": [
    "df['temp_m'] = np.nan\n",
    "df.loc[df['temp & month'] <= 80,'temp_m'] = '1'     \n",
    "df.loc[(df['temp & month'] >80) & (df['temp & month'] <= 140),'temp_m'] = '2'     \n",
    "df.loc[(df['temp & month'] >140) & (df['temp & month'] <= 220),'temp_m'] = '3'     \n",
    "df.loc[(df['temp & month'] >220) & (df['temp & month'] <= 370),'temp_m'] = '5'\n",
    "df.loc[(df['temp & month'] >370) & (df['temp & month'] <= 480),'temp_m'] = '6'\n",
    "df.loc[(df['temp & month'] >480) & (df['temp & month'] <= 570),'temp_m'] = '7'\n",
    "df.loc[(df['temp & month'] >570) & (df['temp & month'] <= 600),'temp_m'] = '8'\n",
    "df.loc[df['temp & month'] >600, 'temp_m'] = 'other'\n",
    "\n",
    "df.head()"
   ]
  },
  {
   "cell_type": "code",
   "execution_count": null,
   "metadata": {},
   "outputs": [],
   "source": []
  },
  {
   "cell_type": "markdown",
   "metadata": {},
   "source": [
    "#### 3. temp classification"
   ]
  },
  {
   "cell_type": "code",
   "execution_count": 25,
   "metadata": {},
   "outputs": [],
   "source": [
    "# add feature: monthly temp classification\n",
    "name = {'temp_jan':1,'temp_feb':2,'temp_mar':3,'temp_apr':4,'temp_may':5,'temp_jun':6,'temp_jul':7,'temp_aug':8,'temp_sep':9,'temp_oct':10,'temp_nov':11,'temp_dec':12}\n",
    "for n in name:\n",
    "    df[n] = '0'\n",
    "    df.loc[(df['temp'] >= df[df['month'] == name[n]]['temp'].min()) & (df['temp'] <= df[df['month'] == name[n]]['temp'].quantile(0.75)),n] = '1'"
   ]
  },
  {
   "cell_type": "code",
   "execution_count": 26,
   "metadata": {},
   "outputs": [],
   "source": [
    "# add feature: monthly temp2 classification\n",
    "name2 = {'temp2_jan':1,'temp2_feb':2,'temp2_mar':3,'temp2_apr':4,'temp2_may':5,'temp2_jun':6,'temp2_jul':7,'temp2_aug':8,'temp2_sep':9,'temp2_oct':10,'temp2_nov':11,'temp2_dec':12}\n",
    "for n in name2:\n",
    "    df[n] = '0'\n",
    "    df.loc[(df['temp2'] >= df[df['month'] == name2[n]]['temp2'].min()) & (df['temp2'] <= df[df['month'] == name2[n]]['temp2'].quantile(0.75)),n] = '1'"
   ]
  },
  {
   "cell_type": "code",
   "execution_count": null,
   "metadata": {},
   "outputs": [],
   "source": []
  },
  {
   "cell_type": "markdown",
   "metadata": {},
   "source": [
    "#### add holiday feature"
   ]
  },
  {
   "cell_type": "code",
   "execution_count": 27,
   "metadata": {},
   "outputs": [
    {
     "data": {
      "text/plain": [
       "DatetimeIndex(['2014-01-01', '2014-01-20', '2014-02-17', '2014-05-26',\n",
       "               '2014-07-04', '2014-09-01', '2014-10-13', '2014-11-11',\n",
       "               '2014-11-27', '2014-12-25', '2015-01-01', '2015-01-19',\n",
       "               '2015-02-16', '2015-05-25', '2015-07-03', '2015-09-07',\n",
       "               '2015-10-12', '2015-11-11', '2015-11-26', '2015-12-25',\n",
       "               '2016-01-01', '2016-01-18', '2016-02-15', '2016-05-30',\n",
       "               '2016-07-04', '2016-09-05', '2016-10-10', '2016-11-11',\n",
       "               '2016-11-24', '2016-12-26', '2017-01-02', '2017-01-16',\n",
       "               '2017-02-20', '2017-05-29', '2017-07-04', '2017-09-04',\n",
       "               '2017-10-09', '2017-11-10', '2017-11-23', '2017-12-25',\n",
       "               '2018-01-01', '2018-01-15', '2018-02-19', '2018-05-28',\n",
       "               '2018-07-04'],\n",
       "              dtype='datetime64[ns]', freq=None)"
      ]
     },
     "execution_count": 27,
     "metadata": {},
     "output_type": "execute_result"
    }
   ],
   "source": [
    "dr = pd.date_range(start='1/1/2014', end='9/01/2018', freq='H')\n",
    "cal = calendar()\n",
    "holidays = cal.holidays(start=dr.min(), end=dr.max())\n",
    "holidays"
   ]
  },
  {
   "cell_type": "code",
   "execution_count": 28,
   "metadata": {
    "scrolled": true
   },
   "outputs": [],
   "source": [
    "df['Holiday'] = '0'\n",
    "from datetime import datetime\n",
    "for i in range(len(df)):\n",
    "    a = datetime(df['year'].iloc[i], df['month'].iloc[i], df['day'].iloc[i]).date()\n",
    "    for date in holidays:\n",
    "        b = str(date).split(\" \")\n",
    "        if b[0] == str(a):\n",
    "            df['Holiday'].iloc[i] = '1'\n"
   ]
  },
  {
   "cell_type": "code",
   "execution_count": null,
   "metadata": {},
   "outputs": [],
   "source": []
  },
  {
   "cell_type": "markdown",
   "metadata": {},
   "source": [
    "### add lag feature"
   ]
  },
  {
   "cell_type": "code",
   "execution_count": 29,
   "metadata": {},
   "outputs": [
    {
     "data": {
      "image/png": "[encoded data removed]",
      "text/plain": [
       "<Figure size 432x288 with 1 Axes>"
      ]
     },
     "execution_count": 29,
     "metadata": {},
     "output_type": "execute_result"
    },
    {
     "data": {
      "image/png": "[encoded data removed]",
      "text/plain": [
       "<Figure size 432x288 with 1 Axes>"
      ]
     },
     "metadata": {
      "needs_background": "light"
     },
     "output_type": "display_data"
    },
    {
     "data": {
      "image/png": "[encoded data removed]",
      "text/plain": [
       "<Figure size 432x288 with 1 Axes>"
      ]
     },
     "metadata": {
      "needs_background": "light"
     },
     "output_type": "display_data"
    }
   ],
   "source": [
    "load = df['Load']\n",
    "sm.graphics.tsa.plot_acf(load, lags = 50)\n",
    "sm.graphics.tsa.plot_pacf(load, lags = 50)"
   ]
  },
  {
   "cell_type": "code",
   "execution_count": 30,
   "metadata": {},
   "outputs": [],
   "source": [
    "# add feature: previous day's Load\n",
    "df['lag24_Load'] = df['Load'].shift(24)"
   ]
  },
  {
   "cell_type": "code",
   "execution_count": 31,
   "metadata": {},
   "outputs": [],
   "source": [
    "# add feature: previous one hour's Load\n",
    "df['lag1_Load'] = df['Load'].shift(1)"
   ]
  },
  {
   "cell_type": "code",
   "execution_count": 32,
   "metadata": {},
   "outputs": [],
   "source": [
    "# add feature: previous two hour's Load\n",
    "df['lag2_Load'] = df['Load'].shift(2)"
   ]
  },
  {
   "cell_type": "code",
   "execution_count": 33,
   "metadata": {},
   "outputs": [],
   "source": [
    "# add feature: previous 12 hour's Load\n",
    "df['lag12_Load'] = df['Load'].shift(12)"
   ]
  },
  {
   "cell_type": "code",
   "execution_count": 34,
   "metadata": {},
   "outputs": [],
   "source": [
    "# add feature: previous 7 day's Load\n",
    "df['lag24/7_Load'] = df['Load'].shift(24*7)"
   ]
  },
  {
   "cell_type": "code",
   "execution_count": 35,
   "metadata": {},
   "outputs": [],
   "source": [
    "# add feature: previous 15 hour's Load\n",
    "df['lag15_Load'] = df['Load'].shift(15)"
   ]
  },
  {
   "cell_type": "code",
   "execution_count": 36,
   "metadata": {},
   "outputs": [],
   "source": [
    "# add feature: previous 25 hour's Load\n",
    "df['lag25_Load'] = df['Load'].shift(25)"
   ]
  },
  {
   "cell_type": "code",
   "execution_count": null,
   "metadata": {},
   "outputs": [],
   "source": []
  },
  {
   "cell_type": "markdown",
   "metadata": {},
   "source": [
    "#### drop features: year, day"
   ]
  },
  {
   "cell_type": "code",
   "execution_count": 37,
   "metadata": {},
   "outputs": [],
   "source": [
    "df_temp = df.drop(['year','day'], axis = 1)\n",
    "df_temp.dropna(inplace = True)"
   ]
  },
  {
   "cell_type": "code",
   "execution_count": 38,
   "metadata": {
    "scrolled": false
   },
   "outputs": [
    {
     "data": {
      "text/html": [
       "<div>\n",
       "<style scoped>\n",
       "    .dataframe tbody tr th:only-of-type {\n",
       "        vertical-align: middle;\n",
       "    }\n",
       "\n",
       "    .dataframe tbody tr th {\n",
       "        vertical-align: top;\n",
       "    }\n",
       "\n",
       "    .dataframe thead th {\n",
       "        text-align: right;\n",
       "    }\n",
       "</style>\n",
       "<table border=\"1\" class=\"dataframe\">\n",
       "  <thead>\n",
       "    <tr style=\"text-align: right;\">\n",
       "      <th></th>\n",
       "      <th>Load</th>\n",
       "      <th>temp</th>\n",
       "      <th>month</th>\n",
       "      <th>datehour</th>\n",
       "      <th>temp2</th>\n",
       "      <th>day of week</th>\n",
       "      <th>weekday &amp; weekend</th>\n",
       "      <th>quarter</th>\n",
       "      <th>week &amp; period</th>\n",
       "      <th>temp &amp; hour</th>\n",
       "      <th>...</th>\n",
       "      <th>temp2_nov</th>\n",
       "      <th>temp2_dec</th>\n",
       "      <th>Holiday</th>\n",
       "      <th>lag24_Load</th>\n",
       "      <th>lag1_Load</th>\n",
       "      <th>lag2_Load</th>\n",
       "      <th>lag12_Load</th>\n",
       "      <th>lag24/7_Load</th>\n",
       "      <th>lag15_Load</th>\n",
       "      <th>lag25_Load</th>\n",
       "    </tr>\n",
       "    <tr>\n",
       "      <th>Date</th>\n",
       "      <th></th>\n",
       "      <th></th>\n",
       "      <th></th>\n",
       "      <th></th>\n",
       "      <th></th>\n",
       "      <th></th>\n",
       "      <th></th>\n",
       "      <th></th>\n",
       "      <th></th>\n",
       "      <th></th>\n",
       "      <th></th>\n",
       "      <th></th>\n",
       "      <th></th>\n",
       "      <th></th>\n",
       "      <th></th>\n",
       "      <th></th>\n",
       "      <th></th>\n",
       "      <th></th>\n",
       "      <th></th>\n",
       "      <th></th>\n",
       "      <th></th>\n",
       "    </tr>\n",
       "  </thead>\n",
       "  <tbody>\n",
       "    <tr>\n",
       "      <th>2014-01-08 00:00:00</th>\n",
       "      <td>9531.0</td>\n",
       "      <td>64.0373</td>\n",
       "      <td>1</td>\n",
       "      <td>0</td>\n",
       "      <td>4100.775791</td>\n",
       "      <td>2</td>\n",
       "      <td>1</td>\n",
       "      <td>1</td>\n",
       "      <td>weekday late night</td>\n",
       "      <td>0.0000</td>\n",
       "      <td>...</td>\n",
       "      <td>1</td>\n",
       "      <td>0</td>\n",
       "      <td>0</td>\n",
       "      <td>9351.0</td>\n",
       "      <td>10180.0</td>\n",
       "      <td>11156.0</td>\n",
       "      <td>11968.0</td>\n",
       "      <td>9891.0</td>\n",
       "      <td>11860.0</td>\n",
       "      <td>9995.0</td>\n",
       "    </tr>\n",
       "    <tr>\n",
       "      <th>2014-01-08 01:00:00</th>\n",
       "      <td>9261.0</td>\n",
       "      <td>61.1816</td>\n",
       "      <td>1</td>\n",
       "      <td>1</td>\n",
       "      <td>3743.188179</td>\n",
       "      <td>2</td>\n",
       "      <td>1</td>\n",
       "      <td>1</td>\n",
       "      <td>weekday late night</td>\n",
       "      <td>61.1816</td>\n",
       "      <td>...</td>\n",
       "      <td>1</td>\n",
       "      <td>0</td>\n",
       "      <td>0</td>\n",
       "      <td>9008.0</td>\n",
       "      <td>9531.0</td>\n",
       "      <td>10180.0</td>\n",
       "      <td>11954.0</td>\n",
       "      <td>9553.0</td>\n",
       "      <td>11950.0</td>\n",
       "      <td>9351.0</td>\n",
       "    </tr>\n",
       "    <tr>\n",
       "      <th>2014-01-08 02:00:00</th>\n",
       "      <td>9143.0</td>\n",
       "      <td>58.5185</td>\n",
       "      <td>1</td>\n",
       "      <td>2</td>\n",
       "      <td>3424.414842</td>\n",
       "      <td>2</td>\n",
       "      <td>1</td>\n",
       "      <td>1</td>\n",
       "      <td>weekday midnight</td>\n",
       "      <td>117.0370</td>\n",
       "      <td>...</td>\n",
       "      <td>1</td>\n",
       "      <td>1</td>\n",
       "      <td>0</td>\n",
       "      <td>8815.0</td>\n",
       "      <td>9261.0</td>\n",
       "      <td>9531.0</td>\n",
       "      <td>11885.0</td>\n",
       "      <td>9222.0</td>\n",
       "      <td>11998.0</td>\n",
       "      <td>9008.0</td>\n",
       "    </tr>\n",
       "    <tr>\n",
       "      <th>2014-01-08 03:00:00</th>\n",
       "      <td>9097.0</td>\n",
       "      <td>57.7022</td>\n",
       "      <td>1</td>\n",
       "      <td>3</td>\n",
       "      <td>3329.543885</td>\n",
       "      <td>2</td>\n",
       "      <td>1</td>\n",
       "      <td>1</td>\n",
       "      <td>weekday midnight</td>\n",
       "      <td>173.1066</td>\n",
       "      <td>...</td>\n",
       "      <td>1</td>\n",
       "      <td>1</td>\n",
       "      <td>0</td>\n",
       "      <td>8755.0</td>\n",
       "      <td>9143.0</td>\n",
       "      <td>9261.0</td>\n",
       "      <td>11848.0</td>\n",
       "      <td>9024.0</td>\n",
       "      <td>11968.0</td>\n",
       "      <td>8815.0</td>\n",
       "    </tr>\n",
       "    <tr>\n",
       "      <th>2014-01-08 04:00:00</th>\n",
       "      <td>9184.0</td>\n",
       "      <td>57.3026</td>\n",
       "      <td>1</td>\n",
       "      <td>4</td>\n",
       "      <td>3283.587967</td>\n",
       "      <td>2</td>\n",
       "      <td>1</td>\n",
       "      <td>1</td>\n",
       "      <td>weekday midnight</td>\n",
       "      <td>229.2104</td>\n",
       "      <td>...</td>\n",
       "      <td>1</td>\n",
       "      <td>1</td>\n",
       "      <td>0</td>\n",
       "      <td>8990.0</td>\n",
       "      <td>9097.0</td>\n",
       "      <td>9143.0</td>\n",
       "      <td>12103.0</td>\n",
       "      <td>8987.0</td>\n",
       "      <td>11954.0</td>\n",
       "      <td>8755.0</td>\n",
       "    </tr>\n",
       "  </tbody>\n",
       "</table>\n",
       "<p>5 rows × 47 columns</p>\n",
       "</div>"
      ],
      "text/plain": [
       "                       Load     temp  month  datehour        temp2  \\\n",
       "Date                                                                 \n",
       "2014-01-08 00:00:00  9531.0  64.0373      1         0  4100.775791   \n",
       "2014-01-08 01:00:00  9261.0  61.1816      1         1  3743.188179   \n",
       "2014-01-08 02:00:00  9143.0  58.5185      1         2  3424.414842   \n",
       "2014-01-08 03:00:00  9097.0  57.7022      1         3  3329.543885   \n",
       "2014-01-08 04:00:00  9184.0  57.3026      1         4  3283.587967   \n",
       "\n",
       "                     day of week weekday & weekend quarter  \\\n",
       "Date                                                         \n",
       "2014-01-08 00:00:00            2                 1       1   \n",
       "2014-01-08 01:00:00            2                 1       1   \n",
       "2014-01-08 02:00:00            2                 1       1   \n",
       "2014-01-08 03:00:00            2                 1       1   \n",
       "2014-01-08 04:00:00            2                 1       1   \n",
       "\n",
       "                          week & period  temp & hour  ...  temp2_nov  \\\n",
       "Date                                                  ...              \n",
       "2014-01-08 00:00:00  weekday late night       0.0000  ...          1   \n",
       "2014-01-08 01:00:00  weekday late night      61.1816  ...          1   \n",
       "2014-01-08 02:00:00    weekday midnight     117.0370  ...          1   \n",
       "2014-01-08 03:00:00    weekday midnight     173.1066  ...          1   \n",
       "2014-01-08 04:00:00    weekday midnight     229.2104  ...          1   \n",
       "\n",
       "                    temp2_dec  Holiday  lag24_Load lag1_Load lag2_Load  \\\n",
       "Date                                                                     \n",
       "2014-01-08 00:00:00         0        0      9351.0   10180.0   11156.0   \n",
       "2014-01-08 01:00:00         0        0      9008.0    9531.0   10180.0   \n",
       "2014-01-08 02:00:00         1        0      8815.0    9261.0    9531.0   \n",
       "2014-01-08 03:00:00         1        0      8755.0    9143.0    9261.0   \n",
       "2014-01-08 04:00:00         1        0      8990.0    9097.0    9143.0   \n",
       "\n",
       "                    lag12_Load lag24/7_Load lag15_Load lag25_Load  \n",
       "Date                                                               \n",
       "2014-01-08 00:00:00    11968.0       9891.0    11860.0     9995.0  \n",
       "2014-01-08 01:00:00    11954.0       9553.0    11950.0     9351.0  \n",
       "2014-01-08 02:00:00    11885.0       9222.0    11998.0     9008.0  \n",
       "2014-01-08 03:00:00    11848.0       9024.0    11968.0     8815.0  \n",
       "2014-01-08 04:00:00    12103.0       8987.0    11954.0     8755.0  \n",
       "\n",
       "[5 rows x 47 columns]"
      ]
     },
     "execution_count": 38,
     "metadata": {},
     "output_type": "execute_result"
    }
   ],
   "source": [
    "df_temp.head()"
   ]
  },
  {
   "cell_type": "code",
   "execution_count": 39,
   "metadata": {},
   "outputs": [
    {
     "data": {
      "text/plain": [
       "Index(['Load', 'temp', 'month', 'datehour', 'temp2', 'day of week',\n",
       "       'weekday & weekend', 'quarter', 'week & period', 'temp & hour',\n",
       "       'temp2 & hour', 'temp_h', 'temp & month', 'temp2 & month', 'temp_m',\n",
       "       'temp_jan', 'temp_feb', 'temp_mar', 'temp_apr', 'temp_may', 'temp_jun',\n",
       "       'temp_jul', 'temp_aug', 'temp_sep', 'temp_oct', 'temp_nov', 'temp_dec',\n",
       "       'temp2_jan', 'temp2_feb', 'temp2_mar', 'temp2_apr', 'temp2_may',\n",
       "       'temp2_jun', 'temp2_jul', 'temp2_aug', 'temp2_sep', 'temp2_oct',\n",
       "       'temp2_nov', 'temp2_dec', 'Holiday', 'lag24_Load', 'lag1_Load',\n",
       "       'lag2_Load', 'lag12_Load', 'lag24/7_Load', 'lag15_Load', 'lag25_Load'],\n",
       "      dtype='object')"
      ]
     },
     "execution_count": 39,
     "metadata": {},
     "output_type": "execute_result"
    }
   ],
   "source": [
    "df_temp.columns"
   ]
  },
  {
   "cell_type": "code",
   "execution_count": 40,
   "metadata": {},
   "outputs": [],
   "source": [
    "df_temp['month'] = df['month'].astype(str)\n",
    "df_temp['datehour'] = df['datehour'].astype(str)\n",
    "df_temp['day of week'] = df['day of week'].astype(str)"
   ]
  },
  {
   "cell_type": "code",
   "execution_count": 41,
   "metadata": {
    "scrolled": false
   },
   "outputs": [
    {
     "data": {
      "text/html": [
       "<div>\n",
       "<style scoped>\n",
       "    .dataframe tbody tr th:only-of-type {\n",
       "        vertical-align: middle;\n",
       "    }\n",
       "\n",
       "    .dataframe tbody tr th {\n",
       "        vertical-align: top;\n",
       "    }\n",
       "\n",
       "    .dataframe thead th {\n",
       "        text-align: right;\n",
       "    }\n",
       "</style>\n",
       "<table border=\"1\" class=\"dataframe\">\n",
       "  <thead>\n",
       "    <tr style=\"text-align: right;\">\n",
       "      <th></th>\n",
       "      <th>Load</th>\n",
       "      <th>temp</th>\n",
       "      <th>temp2</th>\n",
       "      <th>temp &amp; hour</th>\n",
       "      <th>temp2 &amp; hour</th>\n",
       "      <th>temp &amp; month</th>\n",
       "      <th>temp2 &amp; month</th>\n",
       "      <th>lag24_Load</th>\n",
       "      <th>lag1_Load</th>\n",
       "      <th>lag2_Load</th>\n",
       "      <th>...</th>\n",
       "      <th>temp2_mar_1</th>\n",
       "      <th>temp2_apr_1</th>\n",
       "      <th>temp2_may_1</th>\n",
       "      <th>temp2_jun_1</th>\n",
       "      <th>temp2_jul_1</th>\n",
       "      <th>temp2_aug_1</th>\n",
       "      <th>temp2_sep_1</th>\n",
       "      <th>temp2_oct_1</th>\n",
       "      <th>temp2_nov_1</th>\n",
       "      <th>temp2_dec_1</th>\n",
       "    </tr>\n",
       "    <tr>\n",
       "      <th>Date</th>\n",
       "      <th></th>\n",
       "      <th></th>\n",
       "      <th></th>\n",
       "      <th></th>\n",
       "      <th></th>\n",
       "      <th></th>\n",
       "      <th></th>\n",
       "      <th></th>\n",
       "      <th></th>\n",
       "      <th></th>\n",
       "      <th></th>\n",
       "      <th></th>\n",
       "      <th></th>\n",
       "      <th></th>\n",
       "      <th></th>\n",
       "      <th></th>\n",
       "      <th></th>\n",
       "      <th></th>\n",
       "      <th></th>\n",
       "      <th></th>\n",
       "      <th></th>\n",
       "    </tr>\n",
       "  </thead>\n",
       "  <tbody>\n",
       "    <tr>\n",
       "      <th>2014-01-08 00:00:00</th>\n",
       "      <td>9531.0</td>\n",
       "      <td>64.0373</td>\n",
       "      <td>4100.775791</td>\n",
       "      <td>0.0000</td>\n",
       "      <td>0.000000</td>\n",
       "      <td>64.0373</td>\n",
       "      <td>4100.775791</td>\n",
       "      <td>9351.0</td>\n",
       "      <td>10180.0</td>\n",
       "      <td>11156.0</td>\n",
       "      <td>...</td>\n",
       "      <td>1</td>\n",
       "      <td>1</td>\n",
       "      <td>1</td>\n",
       "      <td>1</td>\n",
       "      <td>1</td>\n",
       "      <td>1</td>\n",
       "      <td>1</td>\n",
       "      <td>1</td>\n",
       "      <td>1</td>\n",
       "      <td>0</td>\n",
       "    </tr>\n",
       "    <tr>\n",
       "      <th>2014-01-08 01:00:00</th>\n",
       "      <td>9261.0</td>\n",
       "      <td>61.1816</td>\n",
       "      <td>3743.188179</td>\n",
       "      <td>61.1816</td>\n",
       "      <td>3743.188179</td>\n",
       "      <td>61.1816</td>\n",
       "      <td>3743.188179</td>\n",
       "      <td>9008.0</td>\n",
       "      <td>9531.0</td>\n",
       "      <td>10180.0</td>\n",
       "      <td>...</td>\n",
       "      <td>1</td>\n",
       "      <td>1</td>\n",
       "      <td>1</td>\n",
       "      <td>1</td>\n",
       "      <td>0</td>\n",
       "      <td>0</td>\n",
       "      <td>1</td>\n",
       "      <td>1</td>\n",
       "      <td>1</td>\n",
       "      <td>0</td>\n",
       "    </tr>\n",
       "    <tr>\n",
       "      <th>2014-01-08 02:00:00</th>\n",
       "      <td>9143.0</td>\n",
       "      <td>58.5185</td>\n",
       "      <td>3424.414842</td>\n",
       "      <td>117.0370</td>\n",
       "      <td>6848.829685</td>\n",
       "      <td>58.5185</td>\n",
       "      <td>3424.414842</td>\n",
       "      <td>8815.0</td>\n",
       "      <td>9261.0</td>\n",
       "      <td>9531.0</td>\n",
       "      <td>...</td>\n",
       "      <td>1</td>\n",
       "      <td>1</td>\n",
       "      <td>1</td>\n",
       "      <td>1</td>\n",
       "      <td>0</td>\n",
       "      <td>0</td>\n",
       "      <td>1</td>\n",
       "      <td>1</td>\n",
       "      <td>1</td>\n",
       "      <td>1</td>\n",
       "    </tr>\n",
       "    <tr>\n",
       "      <th>2014-01-08 03:00:00</th>\n",
       "      <td>9097.0</td>\n",
       "      <td>57.7022</td>\n",
       "      <td>3329.543885</td>\n",
       "      <td>173.1066</td>\n",
       "      <td>9988.631655</td>\n",
       "      <td>57.7022</td>\n",
       "      <td>3329.543885</td>\n",
       "      <td>8755.0</td>\n",
       "      <td>9143.0</td>\n",
       "      <td>9261.0</td>\n",
       "      <td>...</td>\n",
       "      <td>1</td>\n",
       "      <td>1</td>\n",
       "      <td>1</td>\n",
       "      <td>0</td>\n",
       "      <td>0</td>\n",
       "      <td>0</td>\n",
       "      <td>1</td>\n",
       "      <td>1</td>\n",
       "      <td>1</td>\n",
       "      <td>1</td>\n",
       "    </tr>\n",
       "    <tr>\n",
       "      <th>2014-01-08 04:00:00</th>\n",
       "      <td>9184.0</td>\n",
       "      <td>57.3026</td>\n",
       "      <td>3283.587967</td>\n",
       "      <td>229.2104</td>\n",
       "      <td>13134.351867</td>\n",
       "      <td>57.3026</td>\n",
       "      <td>3283.587967</td>\n",
       "      <td>8990.0</td>\n",
       "      <td>9097.0</td>\n",
       "      <td>9143.0</td>\n",
       "      <td>...</td>\n",
       "      <td>1</td>\n",
       "      <td>1</td>\n",
       "      <td>1</td>\n",
       "      <td>0</td>\n",
       "      <td>0</td>\n",
       "      <td>0</td>\n",
       "      <td>1</td>\n",
       "      <td>1</td>\n",
       "      <td>1</td>\n",
       "      <td>1</td>\n",
       "    </tr>\n",
       "  </tbody>\n",
       "</table>\n",
       "<p>5 rows × 103 columns</p>\n",
       "</div>"
      ],
      "text/plain": [
       "                       Load     temp        temp2  temp & hour  temp2 & hour  \\\n",
       "Date                                                                           \n",
       "2014-01-08 00:00:00  9531.0  64.0373  4100.775791       0.0000      0.000000   \n",
       "2014-01-08 01:00:00  9261.0  61.1816  3743.188179      61.1816   3743.188179   \n",
       "2014-01-08 02:00:00  9143.0  58.5185  3424.414842     117.0370   6848.829685   \n",
       "2014-01-08 03:00:00  9097.0  57.7022  3329.543885     173.1066   9988.631655   \n",
       "2014-01-08 04:00:00  9184.0  57.3026  3283.587967     229.2104  13134.351867   \n",
       "\n",
       "                     temp & month  temp2 & month  lag24_Load  lag1_Load  \\\n",
       "Date                                                                      \n",
       "2014-01-08 00:00:00       64.0373    4100.775791      9351.0    10180.0   \n",
       "2014-01-08 01:00:00       61.1816    3743.188179      9008.0     9531.0   \n",
       "2014-01-08 02:00:00       58.5185    3424.414842      8815.0     9261.0   \n",
       "2014-01-08 03:00:00       57.7022    3329.543885      8755.0     9143.0   \n",
       "2014-01-08 04:00:00       57.3026    3283.587967      8990.0     9097.0   \n",
       "\n",
       "                     lag2_Load  ...  temp2_mar_1  temp2_apr_1  temp2_may_1  \\\n",
       "Date                            ...                                          \n",
       "2014-01-08 00:00:00    11156.0  ...            1            1            1   \n",
       "2014-01-08 01:00:00    10180.0  ...            1            1            1   \n",
       "2014-01-08 02:00:00     9531.0  ...            1            1            1   \n",
       "2014-01-08 03:00:00     9261.0  ...            1            1            1   \n",
       "2014-01-08 04:00:00     9143.0  ...            1            1            1   \n",
       "\n",
       "                     temp2_jun_1  temp2_jul_1  temp2_aug_1  temp2_sep_1  \\\n",
       "Date                                                                      \n",
       "2014-01-08 00:00:00            1            1            1            1   \n",
       "2014-01-08 01:00:00            1            0            0            1   \n",
       "2014-01-08 02:00:00            1            0            0            1   \n",
       "2014-01-08 03:00:00            0            0            0            1   \n",
       "2014-01-08 04:00:00            0            0            0            1   \n",
       "\n",
       "                     temp2_oct_1  temp2_nov_1  temp2_dec_1  \n",
       "Date                                                        \n",
       "2014-01-08 00:00:00            1            1            0  \n",
       "2014-01-08 01:00:00            1            1            0  \n",
       "2014-01-08 02:00:00            1            1            1  \n",
       "2014-01-08 03:00:00            1            1            1  \n",
       "2014-01-08 04:00:00            1            1            1  \n",
       "\n",
       "[5 rows x 103 columns]"
      ]
     },
     "execution_count": 41,
     "metadata": {},
     "output_type": "execute_result"
    }
   ],
   "source": [
    "df1 = pd.get_dummies(df_temp,columns = ['weekday & weekend','quarter','month','temp_m','temp_h','datehour','week & period','day of week','Holiday',\n",
    "                                       'temp_jan','temp_feb','temp_mar','temp_apr','temp_may','temp_jun','temp_jul','temp_aug',\n",
    "                                        'temp_sep','temp_oct','temp_nov','temp_dec','temp2_jan','temp2_feb','temp2_mar',\n",
    "                                        'temp2_apr','temp2_may','temp2_jun','temp2_jul','temp2_aug','temp2_sep',\n",
    "                                        'temp2_oct','temp2_nov','temp2_dec'], drop_first = True)\n",
    "df1.head()"
   ]
  },
  {
   "cell_type": "code",
   "execution_count": 42,
   "metadata": {
    "scrolled": true
   },
   "outputs": [
    {
     "data": {
      "text/plain": [
       "['Load',\n",
       " 'temp',\n",
       " 'temp2',\n",
       " 'temp & hour',\n",
       " 'temp2 & hour',\n",
       " 'temp & month',\n",
       " 'temp2 & month',\n",
       " 'lag24_Load',\n",
       " 'lag1_Load',\n",
       " 'lag2_Load',\n",
       " 'lag12_Load',\n",
       " 'lag24/7_Load',\n",
       " 'lag15_Load',\n",
       " 'lag25_Load',\n",
       " 'weekday & weekend_2',\n",
       " 'quarter_2',\n",
       " 'quarter_3',\n",
       " 'quarter_4',\n",
       " 'month_10',\n",
       " 'month_11',\n",
       " 'month_12',\n",
       " 'month_2',\n",
       " 'month_3',\n",
       " 'month_4',\n",
       " 'month_5',\n",
       " 'month_6',\n",
       " 'month_7',\n",
       " 'month_8',\n",
       " 'month_9',\n",
       " 'temp_m_2',\n",
       " 'temp_m_3',\n",
       " 'temp_m_5',\n",
       " 'temp_m_6',\n",
       " 'temp_m_7',\n",
       " 'temp_m_8',\n",
       " 'temp_m_other',\n",
       " 'temp_h_temp2',\n",
       " 'temp_h_temp3',\n",
       " 'datehour_1',\n",
       " 'datehour_10',\n",
       " 'datehour_11',\n",
       " 'datehour_12',\n",
       " 'datehour_13',\n",
       " 'datehour_14',\n",
       " 'datehour_15',\n",
       " 'datehour_16',\n",
       " 'datehour_17',\n",
       " 'datehour_18',\n",
       " 'datehour_19',\n",
       " 'datehour_2',\n",
       " 'datehour_20',\n",
       " 'datehour_21',\n",
       " 'datehour_22',\n",
       " 'datehour_23',\n",
       " 'datehour_3',\n",
       " 'datehour_4',\n",
       " 'datehour_5',\n",
       " 'datehour_6',\n",
       " 'datehour_7',\n",
       " 'datehour_8',\n",
       " 'datehour_9',\n",
       " 'week & period_ weekend midnight',\n",
       " 'week & period_weekday early morning',\n",
       " 'week & period_weekday late night',\n",
       " 'week & period_weekday morning',\n",
       " 'week & period_weekday night',\n",
       " 'week & period_weekday noon & afternoon',\n",
       " 'week & period_weekend early morning',\n",
       " 'week & period_weekend late night',\n",
       " 'week & period_weekend morning',\n",
       " 'week & period_weekend night',\n",
       " 'week & period_weekend noon & afternoon',\n",
       " 'day of week_1',\n",
       " 'day of week_2',\n",
       " 'day of week_3',\n",
       " 'day of week_4',\n",
       " 'day of week_5',\n",
       " 'day of week_6',\n",
       " 'Holiday_1',\n",
       " 'temp_jan_1',\n",
       " 'temp_feb_1',\n",
       " 'temp_mar_1',\n",
       " 'temp_apr_1',\n",
       " 'temp_may_1',\n",
       " 'temp_jun_1',\n",
       " 'temp_jul_1',\n",
       " 'temp_aug_1',\n",
       " 'temp_sep_1',\n",
       " 'temp_oct_1',\n",
       " 'temp_nov_1',\n",
       " 'temp_dec_1',\n",
       " 'temp2_jan_1',\n",
       " 'temp2_feb_1',\n",
       " 'temp2_mar_1',\n",
       " 'temp2_apr_1',\n",
       " 'temp2_may_1',\n",
       " 'temp2_jun_1',\n",
       " 'temp2_jul_1',\n",
       " 'temp2_aug_1',\n",
       " 'temp2_sep_1',\n",
       " 'temp2_oct_1',\n",
       " 'temp2_nov_1',\n",
       " 'temp2_dec_1']"
      ]
     },
     "execution_count": 42,
     "metadata": {},
     "output_type": "execute_result"
    }
   ],
   "source": [
    "# show all features\n",
    "cols = df1.columns.tolist()\n",
    "cols"
   ]
  },
  {
   "cell_type": "code",
   "execution_count": 43,
   "metadata": {},
   "outputs": [],
   "source": [
    "y = df1['Load']\n",
    "X = df1.iloc[:,1:]"
   ]
  },
  {
   "cell_type": "markdown",
   "metadata": {},
   "source": [
    "#### number of features"
   ]
  },
  {
   "cell_type": "code",
   "execution_count": 44,
   "metadata": {},
   "outputs": [
    {
     "data": {
      "text/plain": [
       "102"
      ]
     },
     "execution_count": 44,
     "metadata": {},
     "output_type": "execute_result"
    }
   ],
   "source": [
    "num_col = X.shape[1]\n",
    "num_col"
   ]
  },
  {
   "cell_type": "code",
   "execution_count": null,
   "metadata": {},
   "outputs": [],
   "source": []
  },
  {
   "cell_type": "markdown",
   "metadata": {},
   "source": [
    "## Run Model"
   ]
  },
  {
   "cell_type": "code",
   "execution_count": 45,
   "metadata": {},
   "outputs": [],
   "source": [
    "from sklearn.linear_model import LinearRegression\n",
    "from sklearn.model_selection import train_test_split \n",
    "from sklearn.metrics import mean_absolute_error\n",
    "from sklearn.metrics import r2_score\n",
    "from sklearn.linear_model import Ridge\n",
    "from sklearn.linear_model import Lasso\n",
    "from sklearn.preprocessing import StandardScaler\n",
    "from sklearn.model_selection import GridSearchCV\n",
    "from sklearn.ensemble import RandomForestRegressor"
   ]
  },
  {
   "cell_type": "markdown",
   "metadata": {},
   "source": [
    "## VALIDATION"
   ]
  },
  {
   "cell_type": "code",
   "execution_count": 46,
   "metadata": {},
   "outputs": [],
   "source": [
    "X_train, X_test, y_train, y_test = train_test_split(X, y, test_size = 0.3, random_state=1)"
   ]
  },
  {
   "cell_type": "code",
   "execution_count": null,
   "metadata": {},
   "outputs": [],
   "source": []
  },
  {
   "cell_type": "markdown",
   "metadata": {},
   "source": [
    "### Feature Scaling"
   ]
  },
  {
   "cell_type": "code",
   "execution_count": 47,
   "metadata": {},
   "outputs": [],
   "source": [
    "scaler = StandardScaler()\n",
    "X_train = scaler.fit_transform(X_train)\n",
    "X_test = scaler.transform(X_test)"
   ]
  },
  {
   "cell_type": "code",
   "execution_count": null,
   "metadata": {},
   "outputs": [],
   "source": []
  },
  {
   "cell_type": "markdown",
   "metadata": {},
   "source": [
    "### Linear Regression"
   ]
  },
  {
   "cell_type": "code",
   "execution_count": 48,
   "metadata": {},
   "outputs": [
    {
     "data": {
      "text/plain": [
       "array([11478.85136218, 13019.26093785, 11720.40855506, ...,\n",
       "       13642.32428955, 11455.88766598, 12787.5704116 ])"
      ]
     },
     "execution_count": 48,
     "metadata": {},
     "output_type": "execute_result"
    }
   ],
   "source": [
    "m1 = LinearRegression().fit(X_train, y_train)\n",
    "y_pred1 = m1.predict(X_test)\n",
    "y_pred1"
   ]
  },
  {
   "cell_type": "code",
   "execution_count": 49,
   "metadata": {},
   "outputs": [
    {
     "data": {
      "text/plain": [
       "111.09961329335606"
      ]
     },
     "execution_count": 49,
     "metadata": {},
     "output_type": "execute_result"
    }
   ],
   "source": [
    "# MAE\n",
    "mae1 = mean_absolute_error(y_test, y_pred1)\n",
    "mae1"
   ]
  },
  {
   "cell_type": "code",
   "execution_count": 50,
   "metadata": {},
   "outputs": [
    {
     "data": {
      "text/plain": [
       "0.9397214604115557"
      ]
     },
     "execution_count": 50,
     "metadata": {},
     "output_type": "execute_result"
    }
   ],
   "source": [
    "# MAPE\n",
    "def mean_absolute_percentage_error(y_true, y_pred): \n",
    "    y_true, y_pred = np.array(y_true), np.array(y_pred)\n",
    "    return np.mean(np.abs((y_true - y_pred) / y_true)) * 100\n",
    "mean_absolute_percentage_error(y_test, y_pred1)"
   ]
  },
  {
   "cell_type": "code",
   "execution_count": 51,
   "metadata": {},
   "outputs": [
    {
     "data": {
      "text/plain": [
       "0.9965022094150362"
      ]
     },
     "execution_count": 51,
     "metadata": {},
     "output_type": "execute_result"
    }
   ],
   "source": [
    "# R-SQUARE\n",
    "r2_score(y_test, y_pred1)"
   ]
  },
  {
   "cell_type": "code",
   "execution_count": null,
   "metadata": {},
   "outputs": [],
   "source": []
  },
  {
   "cell_type": "markdown",
   "metadata": {},
   "source": [
    "### Ridge"
   ]
  },
  {
   "cell_type": "code",
   "execution_count": 52,
   "metadata": {},
   "outputs": [
    {
     "data": {
      "text/plain": [
       "GridSearchCV(cv=5, error_score='raise-deprecating',\n",
       "             estimator=Ridge(alpha=1.0, copy_X=True, fit_intercept=True,\n",
       "                             max_iter=None, normalize=False, random_state=None,\n",
       "                             solver='auto', tol=0.001),\n",
       "             iid='warn', n_jobs=None,\n",
       "             param_grid={'alpha': [1e-15, 1e-10, 1e-05, 0.1, 0.2, 0.3, 0.4,\n",
       "                                   0.45, 0.5, 0.55, 0.6, 0.7, 0.8, 0.9, 1, 1.5,\n",
       "                                   2, 5, 10]},\n",
       "             pre_dispatch='2*n_jobs', refit=True, return_train_score=False,\n",
       "             scoring=None, verbose=0)"
      ]
     },
     "execution_count": 52,
     "metadata": {},
     "output_type": "execute_result"
    }
   ],
   "source": [
    "# tuning hyperparameter\n",
    "parameters = {\n",
    "    'alpha': [1e-15,1e-10,1e-5,0.1,0.2,0.3,0.4,0.45,0.5,0.55,0.6,0.7,0.8,0.9,1,1.5,2,5,10]\n",
    "}\n",
    "Grid_ridge = GridSearchCV(Ridge(),parameters, cv=5)\n",
    "Grid_ridge.fit(X_train, y_train)"
   ]
  },
  {
   "cell_type": "code",
   "execution_count": 53,
   "metadata": {},
   "outputs": [
    {
     "data": {
      "text/plain": [
       "{'alpha': 0.45}"
      ]
     },
     "execution_count": 53,
     "metadata": {},
     "output_type": "execute_result"
    }
   ],
   "source": [
    "best_ridge = Grid_ridge.best_params_\n",
    "best_ridge"
   ]
  },
  {
   "cell_type": "code",
   "execution_count": 54,
   "metadata": {},
   "outputs": [
    {
     "data": {
      "text/plain": [
       "array([11478.95992126, 13018.58780393, 11719.74925379, ...,\n",
       "       13641.77459913, 11456.00955452, 12787.48164206])"
      ]
     },
     "execution_count": 54,
     "metadata": {},
     "output_type": "execute_result"
    }
   ],
   "source": [
    "ridge = Ridge(alpha = best_ridge['alpha'])\n",
    "m2 = ridge.fit(X_train, y_train) \n",
    "y_pred2 = m2.predict(X_test)\n",
    "y_pred2"
   ]
  },
  {
   "cell_type": "code",
   "execution_count": 55,
   "metadata": {},
   "outputs": [
    {
     "data": {
      "text/plain": [
       "111.11110308498994"
      ]
     },
     "execution_count": 55,
     "metadata": {},
     "output_type": "execute_result"
    }
   ],
   "source": [
    "# MAE\n",
    "mae2 = mean_absolute_error(y_test, y_pred2)\n",
    "mae2"
   ]
  },
  {
   "cell_type": "code",
   "execution_count": 56,
   "metadata": {},
   "outputs": [
    {
     "data": {
      "text/plain": [
       "0.9398248765951266"
      ]
     },
     "execution_count": 56,
     "metadata": {},
     "output_type": "execute_result"
    }
   ],
   "source": [
    "# MAPE\n",
    "mean_absolute_percentage_error(y_test, y_pred2)"
   ]
  },
  {
   "cell_type": "code",
   "execution_count": 57,
   "metadata": {},
   "outputs": [
    {
     "data": {
      "text/plain": [
       "0.9965022055959905"
      ]
     },
     "execution_count": 57,
     "metadata": {},
     "output_type": "execute_result"
    }
   ],
   "source": [
    "# R-SQUARE\n",
    "r2_score(y_test, y_pred2)"
   ]
  },
  {
   "cell_type": "code",
   "execution_count": null,
   "metadata": {},
   "outputs": [],
   "source": []
  },
  {
   "cell_type": "markdown",
   "metadata": {},
   "source": [
    "### Lasso"
   ]
  },
  {
   "cell_type": "code",
   "execution_count": 58,
   "metadata": {},
   "outputs": [
    {
     "data": {
      "text/plain": [
       "GridSearchCV(cv=5, error_score='raise-deprecating',\n",
       "             estimator=Lasso(alpha=1.0, copy_X=True, fit_intercept=True,\n",
       "                             max_iter=1000, normalize=False, positive=False,\n",
       "                             precompute=False, random_state=None,\n",
       "                             selection='cyclic', tol=0.0001, warm_start=False),\n",
       "             iid='warn', n_jobs=None,\n",
       "             param_grid={'alpha': [1e-15, 1e-05, 0.005, 0.03, 0.05, 0.1, 0.5, 1,\n",
       "                                   10, 100]},\n",
       "             pre_dispatch='2*n_jobs', refit=True, return_train_score=False,\n",
       "             scoring=None, verbose=0)"
      ]
     },
     "execution_count": 58,
     "metadata": {},
     "output_type": "execute_result"
    }
   ],
   "source": [
    "# tuning hyperparameter\n",
    "parameters = {\n",
    "    'alpha': [1e-15,1e-5,0.005,0.03,0.05,0.1,0.5,1,10,100]\n",
    "}\n",
    "Grid_lasso = GridSearchCV(Lasso(),parameters, cv=5)\n",
    "Grid_lasso.fit(X_train, y_train)"
   ]
  },
  {
   "cell_type": "code",
   "execution_count": 59,
   "metadata": {},
   "outputs": [
    {
     "data": {
      "text/plain": [
       "{'alpha': 0.1}"
      ]
     },
     "execution_count": 59,
     "metadata": {},
     "output_type": "execute_result"
    }
   ],
   "source": [
    "best_lasso = Grid_lasso.best_params_\n",
    "best_lasso"
   ]
  },
  {
   "cell_type": "code",
   "execution_count": 60,
   "metadata": {},
   "outputs": [
    {
     "data": {
      "text/plain": [
       "array([11480.37850971, 13019.2715171 , 11716.83163442, ...,\n",
       "       13648.04914908, 11459.41056441, 12794.34319929])"
      ]
     },
     "execution_count": 60,
     "metadata": {},
     "output_type": "execute_result"
    }
   ],
   "source": [
    "lasso = Lasso(alpha = best_lasso['alpha'])\n",
    "m3 = lasso.fit(X_train,y_train)\n",
    "y_pred3 = m3.predict(X_test)\n",
    "y_pred3"
   ]
  },
  {
   "cell_type": "code",
   "execution_count": 61,
   "metadata": {},
   "outputs": [
    {
     "data": {
      "text/plain": [
       "111.11532523062462"
      ]
     },
     "execution_count": 61,
     "metadata": {},
     "output_type": "execute_result"
    }
   ],
   "source": [
    "# MAE \n",
    "mae3 = mean_absolute_error(y_test, y_pred3)\n",
    "mae3"
   ]
  },
  {
   "cell_type": "code",
   "execution_count": 62,
   "metadata": {},
   "outputs": [
    {
     "data": {
      "text/plain": [
       "0.9397206830318823"
      ]
     },
     "execution_count": 62,
     "metadata": {},
     "output_type": "execute_result"
    }
   ],
   "source": [
    "# MAPE\n",
    "mean_absolute_percentage_error(y_test, y_pred3)"
   ]
  },
  {
   "cell_type": "code",
   "execution_count": 63,
   "metadata": {},
   "outputs": [
    {
     "data": {
      "text/plain": [
       "0.9965002380467157"
      ]
     },
     "execution_count": 63,
     "metadata": {},
     "output_type": "execute_result"
    }
   ],
   "source": [
    "# R SQUARE\n",
    "r2_score(y_test, y_pred3)"
   ]
  },
  {
   "cell_type": "code",
   "execution_count": null,
   "metadata": {},
   "outputs": [],
   "source": []
  },
  {
   "cell_type": "markdown",
   "metadata": {},
   "source": [
    "##  CROSS VALIDATION"
   ]
  },
  {
   "cell_type": "code",
   "execution_count": 64,
   "metadata": {},
   "outputs": [],
   "source": [
    "from sklearn.model_selection import KFold\n",
    "from sklearn.model_selection import cross_val_score"
   ]
  },
  {
   "cell_type": "code",
   "execution_count": 65,
   "metadata": {},
   "outputs": [],
   "source": [
    "kfold = KFold(n_splits = 6,random_state = 1)\n",
    "measure_mae = 'neg_mean_absolute_error' "
   ]
  },
  {
   "cell_type": "markdown",
   "metadata": {},
   "source": [
    "### cross validation in linear regression"
   ]
  },
  {
   "cell_type": "code",
   "execution_count": 66,
   "metadata": {},
   "outputs": [
    {
     "data": {
      "text/plain": [
       "111.19913589578339"
      ]
     },
     "execution_count": 66,
     "metadata": {},
     "output_type": "execute_result"
    }
   ],
   "source": [
    "# MAE\n",
    "scores_mae1 = cross_val_score(LinearRegression(),X,y,cv = kfold,scoring = measure_mae)\n",
    "mae_cv1 = -scores_mae1.mean()\n",
    "mae_cv1"
   ]
  },
  {
   "cell_type": "markdown",
   "metadata": {},
   "source": [
    "### cross validation in ridge regression"
   ]
  },
  {
   "cell_type": "code",
   "execution_count": 67,
   "metadata": {},
   "outputs": [
    {
     "data": {
      "text/plain": [
       "111.18914423721668"
      ]
     },
     "execution_count": 67,
     "metadata": {},
     "output_type": "execute_result"
    }
   ],
   "source": [
    "# MAE\n",
    "scores_mae2 = cross_val_score(Ridge(alpha = best_ridge['alpha']),X,y,cv = kfold,scoring = measure_mae)\n",
    "mae_cv2 = -scores_mae2.mean()\n",
    "mae_cv2"
   ]
  },
  {
   "cell_type": "markdown",
   "metadata": {},
   "source": [
    "### cross validation in lasso regression"
   ]
  },
  {
   "cell_type": "code",
   "execution_count": 68,
   "metadata": {},
   "outputs": [
    {
     "data": {
      "text/plain": [
       "110.9974804251188"
      ]
     },
     "execution_count": 68,
     "metadata": {},
     "output_type": "execute_result"
    }
   ],
   "source": [
    "# MAE\n",
    "scores_mae3 = cross_val_score(Lasso(alpha = best_lasso['alpha']),X,y,cv = kfold,scoring = measure_mae)\n",
    "mae_cv3 = -scores_mae3.mean()\n",
    "mae_cv3"
   ]
  },
  {
   "cell_type": "code",
   "execution_count": null,
   "metadata": {},
   "outputs": [],
   "source": []
  },
  {
   "cell_type": "markdown",
   "metadata": {},
   "source": [
    "## TEST FEATURE IMPORTANCE"
   ]
  },
  {
   "cell_type": "code",
   "execution_count": 69,
   "metadata": {},
   "outputs": [],
   "source": [
    "forest = RandomForestRegressor(random_state=1)\n",
    "forest.fit(X_train, y_train)\n",
    "\n",
    "importances = forest.feature_importances_\n",
    "sorted_importance = sorted(zip(map(lambda x: round(x, 4), importances), X.columns), reverse=True)"
   ]
  },
  {
   "cell_type": "code",
   "execution_count": 70,
   "metadata": {
    "scrolled": false
   },
   "outputs": [
    {
     "name": "stdout",
     "output_type": "stream",
     "text": [
      "lag1_Load: 0.9537\n",
      "temp_h_temp3: 0.0146\n",
      "lag24_Load: 0.0095\n",
      "lag24/7_Load: 0.0042\n",
      "temp & hour: 0.0033\n",
      "lag2_Load: 0.0031\n",
      "lag15_Load: 0.0025\n",
      "week & period_weekday late night: 0.0018\n",
      "temp_h_temp2: 0.0011\n",
      "lag25_Load: 0.001\n",
      "lag12_Load: 0.0008\n",
      "temp2 & hour: 0.0005\n",
      "weekday & weekend_2: 0.0003\n",
      "week & period_weekday night: 0.0003\n",
      "datehour_6: 0.0003\n",
      "week & period_weekend late night: 0.0002\n",
      "temp2 & month: 0.0002\n",
      "temp2: 0.0002\n",
      "temp & month: 0.0002\n",
      "temp: 0.0002\n",
      "datehour_5: 0.0002\n",
      "datehour_17: 0.0002\n",
      "week & period_weekend night: 0.0001\n",
      "week & period_ weekend midnight: 0.0001\n",
      "quarter_2: 0.0001\n",
      "datehour_23: 0.0001\n",
      "datehour_21: 0.0001\n",
      "datehour_18: 0.0001\n"
     ]
    }
   ],
   "source": [
    "# print top 28 important features ranking by random forest\n",
    "for k,v in sorted_importance[:28]:\n",
    "    print (v + \": \" + str(k))"
   ]
  },
  {
   "cell_type": "code",
   "execution_count": 71,
   "metadata": {},
   "outputs": [],
   "source": [
    "# the lag1 hour feature is extremly important"
   ]
  },
  {
   "cell_type": "code",
   "execution_count": 72,
   "metadata": {},
   "outputs": [
    {
     "data": {
      "text/html": [
       "<div>\n",
       "<style scoped>\n",
       "    .dataframe tbody tr th:only-of-type {\n",
       "        vertical-align: middle;\n",
       "    }\n",
       "\n",
       "    .dataframe tbody tr th {\n",
       "        vertical-align: top;\n",
       "    }\n",
       "\n",
       "    .dataframe thead th {\n",
       "        text-align: right;\n",
       "    }\n",
       "</style>\n",
       "<table border=\"1\" class=\"dataframe\">\n",
       "  <thead>\n",
       "    <tr style=\"text-align: right;\">\n",
       "      <th></th>\n",
       "      <th>lag1_Load</th>\n",
       "      <th>temp_h_temp3</th>\n",
       "      <th>lag24_Load</th>\n",
       "      <th>lag24/7_Load</th>\n",
       "      <th>temp &amp; hour</th>\n",
       "      <th>lag2_Load</th>\n",
       "      <th>lag15_Load</th>\n",
       "      <th>week &amp; period_weekday late night</th>\n",
       "      <th>temp_h_temp2</th>\n",
       "      <th>lag25_Load</th>\n",
       "      <th>...</th>\n",
       "      <th>temp &amp; month</th>\n",
       "      <th>temp</th>\n",
       "      <th>datehour_5</th>\n",
       "      <th>datehour_17</th>\n",
       "      <th>week &amp; period_weekend night</th>\n",
       "      <th>week &amp; period_ weekend midnight</th>\n",
       "      <th>quarter_2</th>\n",
       "      <th>datehour_23</th>\n",
       "      <th>datehour_21</th>\n",
       "      <th>datehour_18</th>\n",
       "    </tr>\n",
       "    <tr>\n",
       "      <th>Date</th>\n",
       "      <th></th>\n",
       "      <th></th>\n",
       "      <th></th>\n",
       "      <th></th>\n",
       "      <th></th>\n",
       "      <th></th>\n",
       "      <th></th>\n",
       "      <th></th>\n",
       "      <th></th>\n",
       "      <th></th>\n",
       "      <th></th>\n",
       "      <th></th>\n",
       "      <th></th>\n",
       "      <th></th>\n",
       "      <th></th>\n",
       "      <th></th>\n",
       "      <th></th>\n",
       "      <th></th>\n",
       "      <th></th>\n",
       "      <th></th>\n",
       "      <th></th>\n",
       "    </tr>\n",
       "  </thead>\n",
       "  <tbody>\n",
       "    <tr>\n",
       "      <th>2014-01-08 00:00:00</th>\n",
       "      <td>10180.0</td>\n",
       "      <td>1</td>\n",
       "      <td>9351.0</td>\n",
       "      <td>9891.0</td>\n",
       "      <td>0.0000</td>\n",
       "      <td>11156.0</td>\n",
       "      <td>11860.0</td>\n",
       "      <td>1</td>\n",
       "      <td>0</td>\n",
       "      <td>9995.0</td>\n",
       "      <td>...</td>\n",
       "      <td>64.0373</td>\n",
       "      <td>64.0373</td>\n",
       "      <td>0</td>\n",
       "      <td>0</td>\n",
       "      <td>0</td>\n",
       "      <td>0</td>\n",
       "      <td>0</td>\n",
       "      <td>0</td>\n",
       "      <td>0</td>\n",
       "      <td>0</td>\n",
       "    </tr>\n",
       "    <tr>\n",
       "      <th>2014-01-08 01:00:00</th>\n",
       "      <td>9531.0</td>\n",
       "      <td>1</td>\n",
       "      <td>9008.0</td>\n",
       "      <td>9553.0</td>\n",
       "      <td>61.1816</td>\n",
       "      <td>10180.0</td>\n",
       "      <td>11950.0</td>\n",
       "      <td>1</td>\n",
       "      <td>0</td>\n",
       "      <td>9351.0</td>\n",
       "      <td>...</td>\n",
       "      <td>61.1816</td>\n",
       "      <td>61.1816</td>\n",
       "      <td>0</td>\n",
       "      <td>0</td>\n",
       "      <td>0</td>\n",
       "      <td>0</td>\n",
       "      <td>0</td>\n",
       "      <td>0</td>\n",
       "      <td>0</td>\n",
       "      <td>0</td>\n",
       "    </tr>\n",
       "    <tr>\n",
       "      <th>2014-01-08 02:00:00</th>\n",
       "      <td>9261.0</td>\n",
       "      <td>1</td>\n",
       "      <td>8815.0</td>\n",
       "      <td>9222.0</td>\n",
       "      <td>117.0370</td>\n",
       "      <td>9531.0</td>\n",
       "      <td>11998.0</td>\n",
       "      <td>0</td>\n",
       "      <td>0</td>\n",
       "      <td>9008.0</td>\n",
       "      <td>...</td>\n",
       "      <td>58.5185</td>\n",
       "      <td>58.5185</td>\n",
       "      <td>0</td>\n",
       "      <td>0</td>\n",
       "      <td>0</td>\n",
       "      <td>0</td>\n",
       "      <td>0</td>\n",
       "      <td>0</td>\n",
       "      <td>0</td>\n",
       "      <td>0</td>\n",
       "    </tr>\n",
       "    <tr>\n",
       "      <th>2014-01-08 03:00:00</th>\n",
       "      <td>9143.0</td>\n",
       "      <td>1</td>\n",
       "      <td>8755.0</td>\n",
       "      <td>9024.0</td>\n",
       "      <td>173.1066</td>\n",
       "      <td>9261.0</td>\n",
       "      <td>11968.0</td>\n",
       "      <td>0</td>\n",
       "      <td>0</td>\n",
       "      <td>8815.0</td>\n",
       "      <td>...</td>\n",
       "      <td>57.7022</td>\n",
       "      <td>57.7022</td>\n",
       "      <td>0</td>\n",
       "      <td>0</td>\n",
       "      <td>0</td>\n",
       "      <td>0</td>\n",
       "      <td>0</td>\n",
       "      <td>0</td>\n",
       "      <td>0</td>\n",
       "      <td>0</td>\n",
       "    </tr>\n",
       "    <tr>\n",
       "      <th>2014-01-08 04:00:00</th>\n",
       "      <td>9097.0</td>\n",
       "      <td>0</td>\n",
       "      <td>8990.0</td>\n",
       "      <td>8987.0</td>\n",
       "      <td>229.2104</td>\n",
       "      <td>9143.0</td>\n",
       "      <td>11954.0</td>\n",
       "      <td>0</td>\n",
       "      <td>0</td>\n",
       "      <td>8755.0</td>\n",
       "      <td>...</td>\n",
       "      <td>57.3026</td>\n",
       "      <td>57.3026</td>\n",
       "      <td>0</td>\n",
       "      <td>0</td>\n",
       "      <td>0</td>\n",
       "      <td>0</td>\n",
       "      <td>0</td>\n",
       "      <td>0</td>\n",
       "      <td>0</td>\n",
       "      <td>0</td>\n",
       "    </tr>\n",
       "  </tbody>\n",
       "</table>\n",
       "<p>5 rows × 28 columns</p>\n",
       "</div>"
      ],
      "text/plain": [
       "                     lag1_Load  temp_h_temp3  lag24_Load  lag24/7_Load  \\\n",
       "Date                                                                     \n",
       "2014-01-08 00:00:00    10180.0             1      9351.0        9891.0   \n",
       "2014-01-08 01:00:00     9531.0             1      9008.0        9553.0   \n",
       "2014-01-08 02:00:00     9261.0             1      8815.0        9222.0   \n",
       "2014-01-08 03:00:00     9143.0             1      8755.0        9024.0   \n",
       "2014-01-08 04:00:00     9097.0             0      8990.0        8987.0   \n",
       "\n",
       "                     temp & hour  lag2_Load  lag15_Load  \\\n",
       "Date                                                      \n",
       "2014-01-08 00:00:00       0.0000    11156.0     11860.0   \n",
       "2014-01-08 01:00:00      61.1816    10180.0     11950.0   \n",
       "2014-01-08 02:00:00     117.0370     9531.0     11998.0   \n",
       "2014-01-08 03:00:00     173.1066     9261.0     11968.0   \n",
       "2014-01-08 04:00:00     229.2104     9143.0     11954.0   \n",
       "\n",
       "                     week & period_weekday late night  temp_h_temp2  \\\n",
       "Date                                                                  \n",
       "2014-01-08 00:00:00                                 1             0   \n",
       "2014-01-08 01:00:00                                 1             0   \n",
       "2014-01-08 02:00:00                                 0             0   \n",
       "2014-01-08 03:00:00                                 0             0   \n",
       "2014-01-08 04:00:00                                 0             0   \n",
       "\n",
       "                     lag25_Load  ...  temp & month     temp  datehour_5  \\\n",
       "Date                             ...                                      \n",
       "2014-01-08 00:00:00      9995.0  ...       64.0373  64.0373           0   \n",
       "2014-01-08 01:00:00      9351.0  ...       61.1816  61.1816           0   \n",
       "2014-01-08 02:00:00      9008.0  ...       58.5185  58.5185           0   \n",
       "2014-01-08 03:00:00      8815.0  ...       57.7022  57.7022           0   \n",
       "2014-01-08 04:00:00      8755.0  ...       57.3026  57.3026           0   \n",
       "\n",
       "                     datehour_17  week & period_weekend night  \\\n",
       "Date                                                            \n",
       "2014-01-08 00:00:00            0                            0   \n",
       "2014-01-08 01:00:00            0                            0   \n",
       "2014-01-08 02:00:00            0                            0   \n",
       "2014-01-08 03:00:00            0                            0   \n",
       "2014-01-08 04:00:00            0                            0   \n",
       "\n",
       "                     week & period_ weekend midnight  quarter_2  datehour_23  \\\n",
       "Date                                                                           \n",
       "2014-01-08 00:00:00                                0          0            0   \n",
       "2014-01-08 01:00:00                                0          0            0   \n",
       "2014-01-08 02:00:00                                0          0            0   \n",
       "2014-01-08 03:00:00                                0          0            0   \n",
       "2014-01-08 04:00:00                                0          0            0   \n",
       "\n",
       "                     datehour_21  datehour_18  \n",
       "Date                                           \n",
       "2014-01-08 00:00:00            0            0  \n",
       "2014-01-08 01:00:00            0            0  \n",
       "2014-01-08 02:00:00            0            0  \n",
       "2014-01-08 03:00:00            0            0  \n",
       "2014-01-08 04:00:00            0            0  \n",
       "\n",
       "[5 rows x 28 columns]"
      ]
     },
     "execution_count": 72,
     "metadata": {},
     "output_type": "execute_result"
    }
   ],
   "source": [
    "# select above features from feature dataframe\n",
    "X_selected = []\n",
    "for i in range(28):\n",
    "    X_selected.append(sorted_importance[i][1])\n",
    "X_selected\n",
    "X_SF = X[X_selected]   \n",
    "X_SF.head()"
   ]
  },
  {
   "cell_type": "code",
   "execution_count": null,
   "metadata": {},
   "outputs": [],
   "source": []
  }
 ],
 "metadata": {
  "kernelspec": {
   "display_name": "Python 3",
   "language": "python",
   "name": "python3"
  },
  "language_info": {
   "codemirror_mode": {
    "name": "ipython",
    "version": 3
   },
   "file_extension": ".py",
   "mimetype": "text/x-python",
   "name": "python",
   "nbconvert_exporter": "python",
   "pygments_lexer": "ipython3",
   "version": "3.7.3"
  }
 },
 "nbformat": 4,
 "nbformat_minor": 2
}
